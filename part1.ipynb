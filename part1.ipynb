{
 "cells": [
  {
   "cell_type": "markdown",
   "id": "e70722747dede47b",
   "metadata": {},
   "source": [
    "# Fáza 1: Prieskum dát (Exploratory Data Analysis)\n",
    "férové rozdelenie práce 50/50\n"
   ]
  },
  {
   "cell_type": "code",
   "id": "279bcad65b19ae6a",
   "metadata": {
    "collapsed": true,
    "ExecuteTime": {
     "end_time": "2025-10-18T16:39:34.744517Z",
     "start_time": "2025-10-18T16:39:34.741352Z"
    }
   },
   "source": [
    "import pandas as pd\n",
    "import matplotlib.pyplot as plt\n",
    "import math\n",
    "import seaborn as sns"
   ],
   "outputs": [],
   "execution_count": 255
  },
  {
   "metadata": {},
   "cell_type": "markdown",
   "source": "### Načítanie dát do premenných",
   "id": "781af05ff63f688b"
  },
  {
   "metadata": {
    "ExecuteTime": {
     "end_time": "2025-10-18T16:39:34.884708Z",
     "start_time": "2025-10-18T16:39:34.788101Z"
    }
   },
   "cell_type": "code",
   "source": [
    "df_observation = pd.read_csv('datasets/observation.csv',sep='\\t')\n",
    "df_patient = pd.read_csv('datasets/patient.csv',sep='\\t')\n",
    "df_station = pd.read_csv('datasets/station.csv',sep='\\t')"
   ],
   "id": "7911d6458d400e42",
   "outputs": [],
   "execution_count": 256
  },
  {
   "metadata": {},
   "cell_type": "markdown",
   "source": [
    "# 1.1 Základný opis dát spolu s ich charakteristikami\n",
    "\n",
    "Pre kazdy z datasetov sme vykonali nasledujúce kroky:\n",
    "#### 1. Prieskum dát - základné štatistiky a informácie o dátach\n",
    "1. `info()`\n",
    "2. `isnul().sum()`\n",
    "3. `head()`\n",
    "4. `nunique()` - len unique hodnot\n",
    "5. `describe()` - štatistiky\n",
    "\n",
    "#### 2. Analýza atribútov\n",
    "1. Typy atribútov - `select_dtypes()`\n",
    "    - `select_dtypes().columns`\n",
    "    - `select_dtypes().nunique()`\n",
    "\n",
    "#### 3. Vysledok analýzy - poznámky o dátach, návrhy na úpravy\n"
   ],
   "id": "b6d84418fb11e96a"
  },
  {
   "metadata": {},
   "cell_type": "markdown",
   "source": "## Dataset Observation",
   "id": "8742c290b9c76ab4"
  },
  {
   "metadata": {},
   "cell_type": "markdown",
   "source": "### 1. Prieskum dát",
   "id": "fad4caead80f7854"
  },
  {
   "metadata": {
    "ExecuteTime": {
     "end_time": "2025-10-18T16:39:34.936673Z",
     "start_time": "2025-10-18T16:39:34.933225Z"
    }
   },
   "cell_type": "code",
   "source": "df_observation.shape",
   "id": "ad84cc0a2718ddda",
   "outputs": [
    {
     "data": {
      "text/plain": [
       "(12047, 23)"
      ]
     },
     "execution_count": 257,
     "metadata": {},
     "output_type": "execute_result"
    }
   ],
   "execution_count": 257
  },
  {
   "metadata": {
    "ExecuteTime": {
     "end_time": "2025-10-18T16:39:34.998507Z",
     "start_time": "2025-10-18T16:39:34.983370Z"
    }
   },
   "cell_type": "code",
   "source": "df_observation.info()",
   "id": "43145415eedc19ec",
   "outputs": [
    {
     "name": "stdout",
     "output_type": "stream",
     "text": [
      "<class 'pandas.core.frame.DataFrame'>\n",
      "RangeIndex: 12047 entries, 0 to 12046\n",
      "Data columns (total 23 columns):\n",
      " #   Column                 Non-Null Count  Dtype  \n",
      "---  ------                 --------------  -----  \n",
      " 0   SpO₂                   12047 non-null  float64\n",
      " 1   HR                     12047 non-null  float64\n",
      " 2   PI                     12047 non-null  float64\n",
      " 3   RR                     12047 non-null  float64\n",
      " 4   EtCO₂                  12047 non-null  float64\n",
      " 5   FiO₂                   12047 non-null  float64\n",
      " 6   PRV                    12047 non-null  float64\n",
      " 7   BP                     12047 non-null  float64\n",
      " 8   Skin Temperature       12047 non-null  float64\n",
      " 9   Motion/Activity index  12047 non-null  float64\n",
      " 10  PVI                    12047 non-null  float64\n",
      " 11  Hb level               12047 non-null  float64\n",
      " 12  SV                     12047 non-null  float64\n",
      " 13  CO                     12047 non-null  float64\n",
      " 14  Blood Flow Index       12047 non-null  float64\n",
      " 15  PPG waveform features  12047 non-null  float64\n",
      " 16  Signal Quality Index   12047 non-null  float64\n",
      " 17  Respiratory effort     12047 non-null  float64\n",
      " 18  O₂ extraction ratio    12047 non-null  float64\n",
      " 19  SNR                    12047 non-null  float64\n",
      " 20  oximetry               12047 non-null  float64\n",
      " 21  latitude               12047 non-null  float64\n",
      " 22  longitude              12047 non-null  float64\n",
      "dtypes: float64(23)\n",
      "memory usage: 2.1 MB\n"
     ]
    }
   ],
   "execution_count": 258
  },
  {
   "metadata": {
    "ExecuteTime": {
     "end_time": "2025-10-18T16:39:35.051868Z",
     "start_time": "2025-10-18T16:39:35.046122Z"
    }
   },
   "cell_type": "code",
   "source": "df_observation.isnull().sum()",
   "id": "215d81d533e612f9",
   "outputs": [
    {
     "data": {
      "text/plain": [
       "SpO₂                     0\n",
       "HR                       0\n",
       "PI                       0\n",
       "RR                       0\n",
       "EtCO₂                    0\n",
       "FiO₂                     0\n",
       "PRV                      0\n",
       "BP                       0\n",
       "Skin Temperature         0\n",
       "Motion/Activity index    0\n",
       "PVI                      0\n",
       "Hb level                 0\n",
       "SV                       0\n",
       "CO                       0\n",
       "Blood Flow Index         0\n",
       "PPG waveform features    0\n",
       "Signal Quality Index     0\n",
       "Respiratory effort       0\n",
       "O₂ extraction ratio      0\n",
       "SNR                      0\n",
       "oximetry                 0\n",
       "latitude                 0\n",
       "longitude                0\n",
       "dtype: int64"
      ]
     },
     "execution_count": 259,
     "metadata": {},
     "output_type": "execute_result"
    }
   ],
   "execution_count": 259
  },
  {
   "metadata": {
    "ExecuteTime": {
     "end_time": "2025-10-18T16:39:35.151395Z",
     "start_time": "2025-10-18T16:39:35.135159Z"
    }
   },
   "cell_type": "code",
   "source": "df_observation.head()",
   "id": "c1b41fe2b1cee015",
   "outputs": [
    {
     "data": {
      "text/plain": [
       "        SpO₂         HR         PI         RR      EtCO₂       FiO₂  \\\n",
       "0  97.620193  73.047425  14.796690  14.368778  41.147562  44.998343   \n",
       "1  97.828560  91.254424  15.226811  17.746857  38.822901  67.082312   \n",
       "2  96.771755  80.281644   9.746972  18.608674  37.259533  30.457594   \n",
       "3  97.060000  78.424910  10.731992  18.942426  37.970214  51.181183   \n",
       "4  96.852482  77.855986   9.266719  14.754602  43.034371  49.059859   \n",
       "\n",
       "          PRV          BP  Skin Temperature  Motion/Activity index  ...  \\\n",
       "0  101.744512  108.175478         35.284983              11.207029  ...   \n",
       "1  136.925626  106.173834         35.174372               7.212819  ...   \n",
       "2  117.224898  106.045090         36.168580              13.639960  ...   \n",
       "3  105.148959  107.950747         36.229369               4.946382  ...   \n",
       "4  140.404608  104.395081         35.566732              13.013934  ...   \n",
       "\n",
       "         CO  Blood Flow Index  PPG waveform features  Signal Quality Index  \\\n",
       "0  4.024120         57.393854              31.011871             61.170762   \n",
       "1  4.745712         27.416950              70.006621             36.441271   \n",
       "2  4.094455         58.161639              61.632568             59.933116   \n",
       "3  4.064535         44.622856              64.227237             32.365137   \n",
       "4  4.060419         55.895316              71.565659             65.842228   \n",
       "\n",
       "   Respiratory effort  O₂ extraction ratio        SNR  oximetry  latitude  \\\n",
       "0           84.520164             0.292173  22.855412       1.0  53.69786   \n",
       "1           39.225366             0.210614  33.204156       0.0  53.59782   \n",
       "2           55.132717             0.238559  31.176268       1.0  10.73750   \n",
       "3           69.857796             0.225224  30.328586       0.0  12.25282   \n",
       "4           62.507491             0.214413  20.550401       1.0 -12.91667   \n",
       "\n",
       "   longitude  \n",
       "0   -2.68758  \n",
       "1   34.33825  \n",
       "2  122.96660  \n",
       "3   79.41727  \n",
       "4  -39.25000  \n",
       "\n",
       "[5 rows x 23 columns]"
      ],
      "text/html": [
       "<div>\n",
       "<style scoped>\n",
       "    .dataframe tbody tr th:only-of-type {\n",
       "        vertical-align: middle;\n",
       "    }\n",
       "\n",
       "    .dataframe tbody tr th {\n",
       "        vertical-align: top;\n",
       "    }\n",
       "\n",
       "    .dataframe thead th {\n",
       "        text-align: right;\n",
       "    }\n",
       "</style>\n",
       "<table border=\"1\" class=\"dataframe\">\n",
       "  <thead>\n",
       "    <tr style=\"text-align: right;\">\n",
       "      <th></th>\n",
       "      <th>SpO₂</th>\n",
       "      <th>HR</th>\n",
       "      <th>PI</th>\n",
       "      <th>RR</th>\n",
       "      <th>EtCO₂</th>\n",
       "      <th>FiO₂</th>\n",
       "      <th>PRV</th>\n",
       "      <th>BP</th>\n",
       "      <th>Skin Temperature</th>\n",
       "      <th>Motion/Activity index</th>\n",
       "      <th>...</th>\n",
       "      <th>CO</th>\n",
       "      <th>Blood Flow Index</th>\n",
       "      <th>PPG waveform features</th>\n",
       "      <th>Signal Quality Index</th>\n",
       "      <th>Respiratory effort</th>\n",
       "      <th>O₂ extraction ratio</th>\n",
       "      <th>SNR</th>\n",
       "      <th>oximetry</th>\n",
       "      <th>latitude</th>\n",
       "      <th>longitude</th>\n",
       "    </tr>\n",
       "  </thead>\n",
       "  <tbody>\n",
       "    <tr>\n",
       "      <th>0</th>\n",
       "      <td>97.620193</td>\n",
       "      <td>73.047425</td>\n",
       "      <td>14.796690</td>\n",
       "      <td>14.368778</td>\n",
       "      <td>41.147562</td>\n",
       "      <td>44.998343</td>\n",
       "      <td>101.744512</td>\n",
       "      <td>108.175478</td>\n",
       "      <td>35.284983</td>\n",
       "      <td>11.207029</td>\n",
       "      <td>...</td>\n",
       "      <td>4.024120</td>\n",
       "      <td>57.393854</td>\n",
       "      <td>31.011871</td>\n",
       "      <td>61.170762</td>\n",
       "      <td>84.520164</td>\n",
       "      <td>0.292173</td>\n",
       "      <td>22.855412</td>\n",
       "      <td>1.0</td>\n",
       "      <td>53.69786</td>\n",
       "      <td>-2.68758</td>\n",
       "    </tr>\n",
       "    <tr>\n",
       "      <th>1</th>\n",
       "      <td>97.828560</td>\n",
       "      <td>91.254424</td>\n",
       "      <td>15.226811</td>\n",
       "      <td>17.746857</td>\n",
       "      <td>38.822901</td>\n",
       "      <td>67.082312</td>\n",
       "      <td>136.925626</td>\n",
       "      <td>106.173834</td>\n",
       "      <td>35.174372</td>\n",
       "      <td>7.212819</td>\n",
       "      <td>...</td>\n",
       "      <td>4.745712</td>\n",
       "      <td>27.416950</td>\n",
       "      <td>70.006621</td>\n",
       "      <td>36.441271</td>\n",
       "      <td>39.225366</td>\n",
       "      <td>0.210614</td>\n",
       "      <td>33.204156</td>\n",
       "      <td>0.0</td>\n",
       "      <td>53.59782</td>\n",
       "      <td>34.33825</td>\n",
       "    </tr>\n",
       "    <tr>\n",
       "      <th>2</th>\n",
       "      <td>96.771755</td>\n",
       "      <td>80.281644</td>\n",
       "      <td>9.746972</td>\n",
       "      <td>18.608674</td>\n",
       "      <td>37.259533</td>\n",
       "      <td>30.457594</td>\n",
       "      <td>117.224898</td>\n",
       "      <td>106.045090</td>\n",
       "      <td>36.168580</td>\n",
       "      <td>13.639960</td>\n",
       "      <td>...</td>\n",
       "      <td>4.094455</td>\n",
       "      <td>58.161639</td>\n",
       "      <td>61.632568</td>\n",
       "      <td>59.933116</td>\n",
       "      <td>55.132717</td>\n",
       "      <td>0.238559</td>\n",
       "      <td>31.176268</td>\n",
       "      <td>1.0</td>\n",
       "      <td>10.73750</td>\n",
       "      <td>122.96660</td>\n",
       "    </tr>\n",
       "    <tr>\n",
       "      <th>3</th>\n",
       "      <td>97.060000</td>\n",
       "      <td>78.424910</td>\n",
       "      <td>10.731992</td>\n",
       "      <td>18.942426</td>\n",
       "      <td>37.970214</td>\n",
       "      <td>51.181183</td>\n",
       "      <td>105.148959</td>\n",
       "      <td>107.950747</td>\n",
       "      <td>36.229369</td>\n",
       "      <td>4.946382</td>\n",
       "      <td>...</td>\n",
       "      <td>4.064535</td>\n",
       "      <td>44.622856</td>\n",
       "      <td>64.227237</td>\n",
       "      <td>32.365137</td>\n",
       "      <td>69.857796</td>\n",
       "      <td>0.225224</td>\n",
       "      <td>30.328586</td>\n",
       "      <td>0.0</td>\n",
       "      <td>12.25282</td>\n",
       "      <td>79.41727</td>\n",
       "    </tr>\n",
       "    <tr>\n",
       "      <th>4</th>\n",
       "      <td>96.852482</td>\n",
       "      <td>77.855986</td>\n",
       "      <td>9.266719</td>\n",
       "      <td>14.754602</td>\n",
       "      <td>43.034371</td>\n",
       "      <td>49.059859</td>\n",
       "      <td>140.404608</td>\n",
       "      <td>104.395081</td>\n",
       "      <td>35.566732</td>\n",
       "      <td>13.013934</td>\n",
       "      <td>...</td>\n",
       "      <td>4.060419</td>\n",
       "      <td>55.895316</td>\n",
       "      <td>71.565659</td>\n",
       "      <td>65.842228</td>\n",
       "      <td>62.507491</td>\n",
       "      <td>0.214413</td>\n",
       "      <td>20.550401</td>\n",
       "      <td>1.0</td>\n",
       "      <td>-12.91667</td>\n",
       "      <td>-39.25000</td>\n",
       "    </tr>\n",
       "  </tbody>\n",
       "</table>\n",
       "<p>5 rows × 23 columns</p>\n",
       "</div>"
      ]
     },
     "execution_count": 260,
     "metadata": {},
     "output_type": "execute_result"
    }
   ],
   "execution_count": 260
  },
  {
   "metadata": {
    "ExecuteTime": {
     "end_time": "2025-10-18T16:39:35.260902Z",
     "start_time": "2025-10-18T16:39:35.239437Z"
    }
   },
   "cell_type": "code",
   "source": "df_observation.nunique()",
   "id": "2a4f944a8f5060f4",
   "outputs": [
    {
     "data": {
      "text/plain": [
       "SpO₂                     11869\n",
       "HR                       11869\n",
       "PI                       11869\n",
       "RR                       11869\n",
       "EtCO₂                    11869\n",
       "FiO₂                     11869\n",
       "PRV                      11869\n",
       "BP                       11869\n",
       "Skin Temperature         11869\n",
       "Motion/Activity index    11869\n",
       "PVI                      11869\n",
       "Hb level                 11869\n",
       "SV                       11869\n",
       "CO                       11869\n",
       "Blood Flow Index         11869\n",
       "PPG waveform features    11869\n",
       "Signal Quality Index     11869\n",
       "Respiratory effort       11869\n",
       "O₂ extraction ratio      11869\n",
       "SNR                      11869\n",
       "oximetry                     2\n",
       "latitude                   558\n",
       "longitude                  558\n",
       "dtype: int64"
      ]
     },
     "execution_count": 261,
     "metadata": {},
     "output_type": "execute_result"
    }
   ],
   "execution_count": 261
  },
  {
   "metadata": {
    "ExecuteTime": {
     "end_time": "2025-10-18T16:39:35.423166Z",
     "start_time": "2025-10-18T16:39:35.356454Z"
    }
   },
   "cell_type": "code",
   "source": "df_observation.describe()",
   "id": "6656fad7b73153c4",
   "outputs": [
    {
     "data": {
      "text/plain": [
       "               SpO₂            HR            PI            RR         EtCO₂  \\\n",
       "count  12047.000000  12047.000000  12047.000000  12047.000000  12047.000000   \n",
       "mean      97.267672     80.697806      9.833910     16.127032     40.492596   \n",
       "std        0.598524      5.155163      2.700888      1.341912      1.726204   \n",
       "min       95.000000     60.000000      0.200000     12.000000     35.000000   \n",
       "25%       96.866478     77.270972      8.026067     15.065575     39.148665   \n",
       "50%       97.264309     80.698631      9.839743     15.910760     40.725808   \n",
       "75%       97.668347     84.159349     11.637860     17.268908     41.860040   \n",
       "max      100.000000    100.000000     20.000000     20.000000     45.000000   \n",
       "\n",
       "               FiO₂           PRV            BP  Skin Temperature  \\\n",
       "count  12047.000000  12047.000000  12047.000000      12047.000000   \n",
       "mean      56.430377    104.028280    104.556883         35.712090   \n",
       "std        9.113699     21.815668      3.718477          0.606053   \n",
       "min       21.000000     20.000000     90.000000         33.000000   \n",
       "25%       50.319755     89.683443    102.051506         35.305665   \n",
       "50%       56.215376    103.995530    104.548575         35.712252   \n",
       "75%       62.411973    118.315006    107.076850         36.113696   \n",
       "max      100.000000    200.000000    120.000000         38.000000   \n",
       "\n",
       "       Motion/Activity index  ...            CO  Blood Flow Index  \\\n",
       "count           12047.000000  ...  12047.000000      12047.000000   \n",
       "mean               10.696255  ...      4.161154         52.047837   \n",
       "std                 3.115040  ...      0.204165         12.529413   \n",
       "min                 0.476937  ...      4.000000          0.000000   \n",
       "25%                 8.396510  ...      4.052809         43.541329   \n",
       "50%                10.790450  ...      4.099662         52.152080   \n",
       "75%                13.261020  ...      4.192040         60.604392   \n",
       "max                19.452927  ...      8.000000        100.000000   \n",
       "\n",
       "       PPG waveform features  Signal Quality Index  Respiratory effort  \\\n",
       "count           12047.000000          12047.000000        12047.000000   \n",
       "mean               57.260950             49.055111           53.443099   \n",
       "std                12.585968             13.431124           13.873025   \n",
       "min                 0.000000              0.000000            0.000000   \n",
       "25%                48.839388             39.961822           44.047538   \n",
       "50%                57.212810             48.931583           53.517314   \n",
       "75%                65.718705             58.244514           62.875562   \n",
       "max               100.000000            100.000000          100.000000   \n",
       "\n",
       "       O₂ extraction ratio           SNR      oximetry      latitude  \\\n",
       "count         12047.000000  12047.000000  12047.000000  12047.000000   \n",
       "mean              0.249607     29.971706      0.595335     28.074873   \n",
       "std               0.028951      5.761003      0.490847     23.392038   \n",
       "min               0.200000     20.000000      0.000000    -54.800000   \n",
       "25%               0.224547     24.967058      0.000000     13.566670   \n",
       "50%               0.249234     30.044146      1.000000     34.864720   \n",
       "75%               0.274752     34.936653      1.000000     45.780710   \n",
       "max               0.300000     40.000000      1.000000     68.798330   \n",
       "\n",
       "          longitude  \n",
       "count  12047.000000  \n",
       "mean      14.764536  \n",
       "std       71.362268  \n",
       "min     -123.026210  \n",
       "25%      -45.947220  \n",
       "50%       13.576610  \n",
       "75%       72.851070  \n",
       "max      171.253640  \n",
       "\n",
       "[8 rows x 23 columns]"
      ],
      "text/html": [
       "<div>\n",
       "<style scoped>\n",
       "    .dataframe tbody tr th:only-of-type {\n",
       "        vertical-align: middle;\n",
       "    }\n",
       "\n",
       "    .dataframe tbody tr th {\n",
       "        vertical-align: top;\n",
       "    }\n",
       "\n",
       "    .dataframe thead th {\n",
       "        text-align: right;\n",
       "    }\n",
       "</style>\n",
       "<table border=\"1\" class=\"dataframe\">\n",
       "  <thead>\n",
       "    <tr style=\"text-align: right;\">\n",
       "      <th></th>\n",
       "      <th>SpO₂</th>\n",
       "      <th>HR</th>\n",
       "      <th>PI</th>\n",
       "      <th>RR</th>\n",
       "      <th>EtCO₂</th>\n",
       "      <th>FiO₂</th>\n",
       "      <th>PRV</th>\n",
       "      <th>BP</th>\n",
       "      <th>Skin Temperature</th>\n",
       "      <th>Motion/Activity index</th>\n",
       "      <th>...</th>\n",
       "      <th>CO</th>\n",
       "      <th>Blood Flow Index</th>\n",
       "      <th>PPG waveform features</th>\n",
       "      <th>Signal Quality Index</th>\n",
       "      <th>Respiratory effort</th>\n",
       "      <th>O₂ extraction ratio</th>\n",
       "      <th>SNR</th>\n",
       "      <th>oximetry</th>\n",
       "      <th>latitude</th>\n",
       "      <th>longitude</th>\n",
       "    </tr>\n",
       "  </thead>\n",
       "  <tbody>\n",
       "    <tr>\n",
       "      <th>count</th>\n",
       "      <td>12047.000000</td>\n",
       "      <td>12047.000000</td>\n",
       "      <td>12047.000000</td>\n",
       "      <td>12047.000000</td>\n",
       "      <td>12047.000000</td>\n",
       "      <td>12047.000000</td>\n",
       "      <td>12047.000000</td>\n",
       "      <td>12047.000000</td>\n",
       "      <td>12047.000000</td>\n",
       "      <td>12047.000000</td>\n",
       "      <td>...</td>\n",
       "      <td>12047.000000</td>\n",
       "      <td>12047.000000</td>\n",
       "      <td>12047.000000</td>\n",
       "      <td>12047.000000</td>\n",
       "      <td>12047.000000</td>\n",
       "      <td>12047.000000</td>\n",
       "      <td>12047.000000</td>\n",
       "      <td>12047.000000</td>\n",
       "      <td>12047.000000</td>\n",
       "      <td>12047.000000</td>\n",
       "    </tr>\n",
       "    <tr>\n",
       "      <th>mean</th>\n",
       "      <td>97.267672</td>\n",
       "      <td>80.697806</td>\n",
       "      <td>9.833910</td>\n",
       "      <td>16.127032</td>\n",
       "      <td>40.492596</td>\n",
       "      <td>56.430377</td>\n",
       "      <td>104.028280</td>\n",
       "      <td>104.556883</td>\n",
       "      <td>35.712090</td>\n",
       "      <td>10.696255</td>\n",
       "      <td>...</td>\n",
       "      <td>4.161154</td>\n",
       "      <td>52.047837</td>\n",
       "      <td>57.260950</td>\n",
       "      <td>49.055111</td>\n",
       "      <td>53.443099</td>\n",
       "      <td>0.249607</td>\n",
       "      <td>29.971706</td>\n",
       "      <td>0.595335</td>\n",
       "      <td>28.074873</td>\n",
       "      <td>14.764536</td>\n",
       "    </tr>\n",
       "    <tr>\n",
       "      <th>std</th>\n",
       "      <td>0.598524</td>\n",
       "      <td>5.155163</td>\n",
       "      <td>2.700888</td>\n",
       "      <td>1.341912</td>\n",
       "      <td>1.726204</td>\n",
       "      <td>9.113699</td>\n",
       "      <td>21.815668</td>\n",
       "      <td>3.718477</td>\n",
       "      <td>0.606053</td>\n",
       "      <td>3.115040</td>\n",
       "      <td>...</td>\n",
       "      <td>0.204165</td>\n",
       "      <td>12.529413</td>\n",
       "      <td>12.585968</td>\n",
       "      <td>13.431124</td>\n",
       "      <td>13.873025</td>\n",
       "      <td>0.028951</td>\n",
       "      <td>5.761003</td>\n",
       "      <td>0.490847</td>\n",
       "      <td>23.392038</td>\n",
       "      <td>71.362268</td>\n",
       "    </tr>\n",
       "    <tr>\n",
       "      <th>min</th>\n",
       "      <td>95.000000</td>\n",
       "      <td>60.000000</td>\n",
       "      <td>0.200000</td>\n",
       "      <td>12.000000</td>\n",
       "      <td>35.000000</td>\n",
       "      <td>21.000000</td>\n",
       "      <td>20.000000</td>\n",
       "      <td>90.000000</td>\n",
       "      <td>33.000000</td>\n",
       "      <td>0.476937</td>\n",
       "      <td>...</td>\n",
       "      <td>4.000000</td>\n",
       "      <td>0.000000</td>\n",
       "      <td>0.000000</td>\n",
       "      <td>0.000000</td>\n",
       "      <td>0.000000</td>\n",
       "      <td>0.200000</td>\n",
       "      <td>20.000000</td>\n",
       "      <td>0.000000</td>\n",
       "      <td>-54.800000</td>\n",
       "      <td>-123.026210</td>\n",
       "    </tr>\n",
       "    <tr>\n",
       "      <th>25%</th>\n",
       "      <td>96.866478</td>\n",
       "      <td>77.270972</td>\n",
       "      <td>8.026067</td>\n",
       "      <td>15.065575</td>\n",
       "      <td>39.148665</td>\n",
       "      <td>50.319755</td>\n",
       "      <td>89.683443</td>\n",
       "      <td>102.051506</td>\n",
       "      <td>35.305665</td>\n",
       "      <td>8.396510</td>\n",
       "      <td>...</td>\n",
       "      <td>4.052809</td>\n",
       "      <td>43.541329</td>\n",
       "      <td>48.839388</td>\n",
       "      <td>39.961822</td>\n",
       "      <td>44.047538</td>\n",
       "      <td>0.224547</td>\n",
       "      <td>24.967058</td>\n",
       "      <td>0.000000</td>\n",
       "      <td>13.566670</td>\n",
       "      <td>-45.947220</td>\n",
       "    </tr>\n",
       "    <tr>\n",
       "      <th>50%</th>\n",
       "      <td>97.264309</td>\n",
       "      <td>80.698631</td>\n",
       "      <td>9.839743</td>\n",
       "      <td>15.910760</td>\n",
       "      <td>40.725808</td>\n",
       "      <td>56.215376</td>\n",
       "      <td>103.995530</td>\n",
       "      <td>104.548575</td>\n",
       "      <td>35.712252</td>\n",
       "      <td>10.790450</td>\n",
       "      <td>...</td>\n",
       "      <td>4.099662</td>\n",
       "      <td>52.152080</td>\n",
       "      <td>57.212810</td>\n",
       "      <td>48.931583</td>\n",
       "      <td>53.517314</td>\n",
       "      <td>0.249234</td>\n",
       "      <td>30.044146</td>\n",
       "      <td>1.000000</td>\n",
       "      <td>34.864720</td>\n",
       "      <td>13.576610</td>\n",
       "    </tr>\n",
       "    <tr>\n",
       "      <th>75%</th>\n",
       "      <td>97.668347</td>\n",
       "      <td>84.159349</td>\n",
       "      <td>11.637860</td>\n",
       "      <td>17.268908</td>\n",
       "      <td>41.860040</td>\n",
       "      <td>62.411973</td>\n",
       "      <td>118.315006</td>\n",
       "      <td>107.076850</td>\n",
       "      <td>36.113696</td>\n",
       "      <td>13.261020</td>\n",
       "      <td>...</td>\n",
       "      <td>4.192040</td>\n",
       "      <td>60.604392</td>\n",
       "      <td>65.718705</td>\n",
       "      <td>58.244514</td>\n",
       "      <td>62.875562</td>\n",
       "      <td>0.274752</td>\n",
       "      <td>34.936653</td>\n",
       "      <td>1.000000</td>\n",
       "      <td>45.780710</td>\n",
       "      <td>72.851070</td>\n",
       "    </tr>\n",
       "    <tr>\n",
       "      <th>max</th>\n",
       "      <td>100.000000</td>\n",
       "      <td>100.000000</td>\n",
       "      <td>20.000000</td>\n",
       "      <td>20.000000</td>\n",
       "      <td>45.000000</td>\n",
       "      <td>100.000000</td>\n",
       "      <td>200.000000</td>\n",
       "      <td>120.000000</td>\n",
       "      <td>38.000000</td>\n",
       "      <td>19.452927</td>\n",
       "      <td>...</td>\n",
       "      <td>8.000000</td>\n",
       "      <td>100.000000</td>\n",
       "      <td>100.000000</td>\n",
       "      <td>100.000000</td>\n",
       "      <td>100.000000</td>\n",
       "      <td>0.300000</td>\n",
       "      <td>40.000000</td>\n",
       "      <td>1.000000</td>\n",
       "      <td>68.798330</td>\n",
       "      <td>171.253640</td>\n",
       "    </tr>\n",
       "  </tbody>\n",
       "</table>\n",
       "<p>8 rows × 23 columns</p>\n",
       "</div>"
      ]
     },
     "execution_count": 262,
     "metadata": {},
     "output_type": "execute_result"
    }
   ],
   "execution_count": 262
  },
  {
   "metadata": {},
   "cell_type": "markdown",
   "source": "### 2. Analýza atribútov",
   "id": "eda0a6b6a8862240"
  },
  {
   "metadata": {
    "ExecuteTime": {
     "end_time": "2025-10-18T16:39:35.516976Z",
     "start_time": "2025-10-18T16:39:35.511601Z"
    }
   },
   "cell_type": "code",
   "source": "len(df_observation.select_dtypes(include=['float64']).columns)",
   "id": "51a08a7c4d731957",
   "outputs": [
    {
     "data": {
      "text/plain": [
       "23"
      ]
     },
     "execution_count": 263,
     "metadata": {},
     "output_type": "execute_result"
    }
   ],
   "execution_count": 263
  },
  {
   "metadata": {
    "ExecuteTime": {
     "end_time": "2025-10-18T16:39:35.625890Z",
     "start_time": "2025-10-18T16:39:35.621671Z"
    }
   },
   "cell_type": "code",
   "source": "df_observation.select_dtypes(include=['float64']).columns",
   "id": "ba893ff104f27edd",
   "outputs": [
    {
     "data": {
      "text/plain": [
       "Index(['SpO₂', 'HR', 'PI', 'RR', 'EtCO₂', 'FiO₂', 'PRV', 'BP',\n",
       "       'Skin Temperature', 'Motion/Activity index', 'PVI', 'Hb level', 'SV',\n",
       "       'CO', 'Blood Flow Index', 'PPG waveform features',\n",
       "       'Signal Quality Index', 'Respiratory effort', 'O₂ extraction ratio',\n",
       "       'SNR', 'oximetry', 'latitude', 'longitude'],\n",
       "      dtype='object')"
      ]
     },
     "execution_count": 264,
     "metadata": {},
     "output_type": "execute_result"
    }
   ],
   "execution_count": 264
  },
  {
   "metadata": {
    "ExecuteTime": {
     "end_time": "2025-10-18T16:39:35.727788Z",
     "start_time": "2025-10-18T16:39:35.707426Z"
    }
   },
   "cell_type": "code",
   "source": "df_observation.select_dtypes(include=['float64']).nunique()",
   "id": "b04964d07195bf70",
   "outputs": [
    {
     "data": {
      "text/plain": [
       "SpO₂                     11869\n",
       "HR                       11869\n",
       "PI                       11869\n",
       "RR                       11869\n",
       "EtCO₂                    11869\n",
       "FiO₂                     11869\n",
       "PRV                      11869\n",
       "BP                       11869\n",
       "Skin Temperature         11869\n",
       "Motion/Activity index    11869\n",
       "PVI                      11869\n",
       "Hb level                 11869\n",
       "SV                       11869\n",
       "CO                       11869\n",
       "Blood Flow Index         11869\n",
       "PPG waveform features    11869\n",
       "Signal Quality Index     11869\n",
       "Respiratory effort       11869\n",
       "O₂ extraction ratio      11869\n",
       "SNR                      11869\n",
       "oximetry                     2\n",
       "latitude                   558\n",
       "longitude                  558\n",
       "dtype: int64"
      ]
     },
     "execution_count": 265,
     "metadata": {},
     "output_type": "execute_result"
    }
   ],
   "execution_count": 265
  },
  {
   "metadata": {
    "ExecuteTime": {
     "end_time": "2025-10-18T16:39:35.817524Z",
     "start_time": "2025-10-18T16:39:35.809788Z"
    }
   },
   "cell_type": "code",
   "source": "df_observation['oximetry'].value_counts().sort_index()",
   "id": "ab85f55e916a4fb1",
   "outputs": [
    {
     "data": {
      "text/plain": [
       "oximetry\n",
       "0.0    4875\n",
       "1.0    7172\n",
       "Name: count, dtype: int64"
      ]
     },
     "execution_count": 266,
     "metadata": {},
     "output_type": "execute_result"
    }
   ],
   "execution_count": 266
  },
  {
   "metadata": {},
   "cell_type": "markdown",
   "source": [
    "### 3. Vysledok analýzy\n",
    "- dataset pozostáva z 23 atribútov a 12047 záznamov\n",
    "- všetky atribúty sú číselné typu `float64` - ide o kontinuálne merania z rôznych senzorov\n",
    "- neobsahuje žiadne chýbajúce hodnoty\n",
    "\n",
    "#### Oximetry\n",
    "- `1.0` → Oxymeter dokázal získať validný SpO₂ signál\n",
    "- `0.0` → Oxymeter nedokázal získať signál / meranie zlyhalo\n",
    "\n",
    "=> predikovou premennou nie je „koľko SpO₂“, ale „či sa SpO₂ dalo zmerať“\n",
    "\n"
   ],
   "id": "4be179bca6a56925"
  },
  {
   "metadata": {},
   "cell_type": "markdown",
   "source": [
    "## Dataset Patient\n",
    "\n",
    "### 1. Prieskum dát"
   ],
   "id": "73c2514295cf0066"
  },
  {
   "metadata": {
    "ExecuteTime": {
     "end_time": "2025-10-18T16:39:35.923555Z",
     "start_time": "2025-10-18T16:39:35.917991Z"
    }
   },
   "cell_type": "code",
   "source": "df_patient.shape",
   "id": "5a9713cc439dd91d",
   "outputs": [
    {
     "data": {
      "text/plain": [
       "(2069, 13)"
      ]
     },
     "execution_count": 267,
     "metadata": {},
     "output_type": "execute_result"
    }
   ],
   "execution_count": 267
  },
  {
   "metadata": {
    "ExecuteTime": {
     "end_time": "2025-10-18T16:39:36.107537Z",
     "start_time": "2025-10-18T16:39:36.099026Z"
    }
   },
   "cell_type": "code",
   "source": "df_patient.info()",
   "id": "63ec5a2dc13e6681",
   "outputs": [
    {
     "name": "stdout",
     "output_type": "stream",
     "text": [
      "<class 'pandas.core.frame.DataFrame'>\n",
      "RangeIndex: 2069 entries, 0 to 2068\n",
      "Data columns (total 13 columns):\n",
      " #   Column            Non-Null Count  Dtype  \n",
      "---  ------            --------------  -----  \n",
      " 0   mail              2069 non-null   object \n",
      " 1   birthdate         1138 non-null   object \n",
      " 2   registration      2069 non-null   object \n",
      " 3   blood_group       2069 non-null   object \n",
      " 4   company           2069 non-null   object \n",
      " 5   username          2069 non-null   object \n",
      " 6   user_id           2069 non-null   int64  \n",
      " 7   ssn               2069 non-null   object \n",
      " 8   residence         0 non-null      float64\n",
      " 9   name              2069 non-null   object \n",
      " 10  job               621 non-null    object \n",
      " 11  current_location  1966 non-null   object \n",
      " 12  station_ID        2069 non-null   int64  \n",
      "dtypes: float64(1), int64(2), object(10)\n",
      "memory usage: 210.3+ KB\n"
     ]
    }
   ],
   "execution_count": 268
  },
  {
   "metadata": {
    "ExecuteTime": {
     "end_time": "2025-10-18T16:39:36.201991Z",
     "start_time": "2025-10-18T16:39:36.196227Z"
    }
   },
   "cell_type": "code",
   "source": "df_patient.isnull().sum()",
   "id": "c28c5d58ad9c935d",
   "outputs": [
    {
     "data": {
      "text/plain": [
       "mail                   0\n",
       "birthdate            931\n",
       "registration           0\n",
       "blood_group            0\n",
       "company                0\n",
       "username               0\n",
       "user_id                0\n",
       "ssn                    0\n",
       "residence           2069\n",
       "name                   0\n",
       "job                 1448\n",
       "current_location     103\n",
       "station_ID             0\n",
       "dtype: int64"
      ]
     },
     "execution_count": 269,
     "metadata": {},
     "output_type": "execute_result"
    }
   ],
   "execution_count": 269
  },
  {
   "metadata": {
    "ExecuteTime": {
     "end_time": "2025-10-18T16:39:36.293832Z",
     "start_time": "2025-10-18T16:39:36.278409Z"
    }
   },
   "cell_type": "code",
   "source": "df_patient.head()",
   "id": "4b1767500911b79b",
   "outputs": [
    {
     "data": {
      "text/plain": [
       "                          mail   birthdate registration blood_group  \\\n",
       "0  alicevasconcelos@bol.com.br  2014-05-22  03 Jul 2022          B+   \n",
       "1          carla33@hotmail.com         NaN   2019-02-19         AB-   \n",
       "2            julie13@yahoo.com         NaN  18 Apr 2023          B+   \n",
       "3    murakamishota@hotmail.com         NaN   2021-05-31          A+   \n",
       "4            mauro58@gmail.com         NaN   2021-10-19          A-   \n",
       "\n",
       "                  company      username  user_id               ssn  residence  \\\n",
       "0          Cavalcanti S/A        theo31      763       38671502902        NaN   \n",
       "1              Buck-Brown      donald76      571       648-52-7110        NaN   \n",
       "2            Acosta-Black    diazrhonda     1368       472-71-8574        NaN   \n",
       "3                加藤農林合同会社   nanamiinoue     1011       156-44-9296        NaN   \n",
       "4  Ferragni-Rapisardi SPA  gaetanoboito     1662  CMMSYV42C16A763E        NaN   \n",
       "\n",
       "                  name     job  \\\n",
       "0        Yuri Mendonça     NaN   \n",
       "1       Amanda Douglas     NaN   \n",
       "2          Jordan Shea     NaN   \n",
       "3                伊藤 修平  高等学校教員   \n",
       "4  Sig. Atenulf Polani     NaN   \n",
       "\n",
       "                                  current_location  station_ID  \n",
       "0   (Decimal('75.5622165'), Decimal('140.611314'))         705  \n",
       "1    (Decimal('56.355046'), Decimal('-31.498637'))         387  \n",
       "2  (Decimal('77.9571885'), Decimal('-141.860092'))         593  \n",
       "3      (Decimal('5.799277'), Decimal('58.160125'))         429  \n",
       "4  (Decimal('78.8543295'), Decimal('-101.613684'))         388  "
      ],
      "text/html": [
       "<div>\n",
       "<style scoped>\n",
       "    .dataframe tbody tr th:only-of-type {\n",
       "        vertical-align: middle;\n",
       "    }\n",
       "\n",
       "    .dataframe tbody tr th {\n",
       "        vertical-align: top;\n",
       "    }\n",
       "\n",
       "    .dataframe thead th {\n",
       "        text-align: right;\n",
       "    }\n",
       "</style>\n",
       "<table border=\"1\" class=\"dataframe\">\n",
       "  <thead>\n",
       "    <tr style=\"text-align: right;\">\n",
       "      <th></th>\n",
       "      <th>mail</th>\n",
       "      <th>birthdate</th>\n",
       "      <th>registration</th>\n",
       "      <th>blood_group</th>\n",
       "      <th>company</th>\n",
       "      <th>username</th>\n",
       "      <th>user_id</th>\n",
       "      <th>ssn</th>\n",
       "      <th>residence</th>\n",
       "      <th>name</th>\n",
       "      <th>job</th>\n",
       "      <th>current_location</th>\n",
       "      <th>station_ID</th>\n",
       "    </tr>\n",
       "  </thead>\n",
       "  <tbody>\n",
       "    <tr>\n",
       "      <th>0</th>\n",
       "      <td>alicevasconcelos@bol.com.br</td>\n",
       "      <td>2014-05-22</td>\n",
       "      <td>03 Jul 2022</td>\n",
       "      <td>B+</td>\n",
       "      <td>Cavalcanti S/A</td>\n",
       "      <td>theo31</td>\n",
       "      <td>763</td>\n",
       "      <td>38671502902</td>\n",
       "      <td>NaN</td>\n",
       "      <td>Yuri Mendonça</td>\n",
       "      <td>NaN</td>\n",
       "      <td>(Decimal('75.5622165'), Decimal('140.611314'))</td>\n",
       "      <td>705</td>\n",
       "    </tr>\n",
       "    <tr>\n",
       "      <th>1</th>\n",
       "      <td>carla33@hotmail.com</td>\n",
       "      <td>NaN</td>\n",
       "      <td>2019-02-19</td>\n",
       "      <td>AB-</td>\n",
       "      <td>Buck-Brown</td>\n",
       "      <td>donald76</td>\n",
       "      <td>571</td>\n",
       "      <td>648-52-7110</td>\n",
       "      <td>NaN</td>\n",
       "      <td>Amanda Douglas</td>\n",
       "      <td>NaN</td>\n",
       "      <td>(Decimal('56.355046'), Decimal('-31.498637'))</td>\n",
       "      <td>387</td>\n",
       "    </tr>\n",
       "    <tr>\n",
       "      <th>2</th>\n",
       "      <td>julie13@yahoo.com</td>\n",
       "      <td>NaN</td>\n",
       "      <td>18 Apr 2023</td>\n",
       "      <td>B+</td>\n",
       "      <td>Acosta-Black</td>\n",
       "      <td>diazrhonda</td>\n",
       "      <td>1368</td>\n",
       "      <td>472-71-8574</td>\n",
       "      <td>NaN</td>\n",
       "      <td>Jordan Shea</td>\n",
       "      <td>NaN</td>\n",
       "      <td>(Decimal('77.9571885'), Decimal('-141.860092'))</td>\n",
       "      <td>593</td>\n",
       "    </tr>\n",
       "    <tr>\n",
       "      <th>3</th>\n",
       "      <td>murakamishota@hotmail.com</td>\n",
       "      <td>NaN</td>\n",
       "      <td>2021-05-31</td>\n",
       "      <td>A+</td>\n",
       "      <td>加藤農林合同会社</td>\n",
       "      <td>nanamiinoue</td>\n",
       "      <td>1011</td>\n",
       "      <td>156-44-9296</td>\n",
       "      <td>NaN</td>\n",
       "      <td>伊藤 修平</td>\n",
       "      <td>高等学校教員</td>\n",
       "      <td>(Decimal('5.799277'), Decimal('58.160125'))</td>\n",
       "      <td>429</td>\n",
       "    </tr>\n",
       "    <tr>\n",
       "      <th>4</th>\n",
       "      <td>mauro58@gmail.com</td>\n",
       "      <td>NaN</td>\n",
       "      <td>2021-10-19</td>\n",
       "      <td>A-</td>\n",
       "      <td>Ferragni-Rapisardi SPA</td>\n",
       "      <td>gaetanoboito</td>\n",
       "      <td>1662</td>\n",
       "      <td>CMMSYV42C16A763E</td>\n",
       "      <td>NaN</td>\n",
       "      <td>Sig. Atenulf Polani</td>\n",
       "      <td>NaN</td>\n",
       "      <td>(Decimal('78.8543295'), Decimal('-101.613684'))</td>\n",
       "      <td>388</td>\n",
       "    </tr>\n",
       "  </tbody>\n",
       "</table>\n",
       "</div>"
      ]
     },
     "execution_count": 270,
     "metadata": {},
     "output_type": "execute_result"
    }
   ],
   "execution_count": 270
  },
  {
   "metadata": {
    "ExecuteTime": {
     "end_time": "2025-10-18T16:39:36.374513Z",
     "start_time": "2025-10-18T16:39:36.363128Z"
    }
   },
   "cell_type": "code",
   "source": "df_patient.nunique()",
   "id": "16c6dad64b9f2e76",
   "outputs": [
    {
     "data": {
      "text/plain": [
       "mail                2062\n",
       "birthdate           1119\n",
       "registration        1875\n",
       "blood_group            8\n",
       "company             1885\n",
       "username            2042\n",
       "user_id             1315\n",
       "ssn                 2069\n",
       "residence              0\n",
       "name                2018\n",
       "job                  406\n",
       "current_location    1966\n",
       "station_ID           767\n",
       "dtype: int64"
      ]
     },
     "execution_count": 271,
     "metadata": {},
     "output_type": "execute_result"
    }
   ],
   "execution_count": 271
  },
  {
   "metadata": {
    "ExecuteTime": {
     "end_time": "2025-10-18T16:39:36.490734Z",
     "start_time": "2025-10-18T16:39:36.478577Z"
    }
   },
   "cell_type": "code",
   "source": "df_patient.describe()",
   "id": "782698fa618d96aa",
   "outputs": [
    {
     "data": {
      "text/plain": [
       "           user_id  residence   station_ID\n",
       "count  2069.000000        0.0  2069.000000\n",
       "mean   1030.209763        NaN   409.358627\n",
       "std     606.638857        NaN   244.337210\n",
       "min       0.000000        NaN     0.000000\n",
       "25%     506.000000        NaN   193.000000\n",
       "50%     999.000000        NaN   406.000000\n",
       "75%    1571.000000        NaN   625.000000\n",
       "max    2065.000000        NaN   830.000000"
      ],
      "text/html": [
       "<div>\n",
       "<style scoped>\n",
       "    .dataframe tbody tr th:only-of-type {\n",
       "        vertical-align: middle;\n",
       "    }\n",
       "\n",
       "    .dataframe tbody tr th {\n",
       "        vertical-align: top;\n",
       "    }\n",
       "\n",
       "    .dataframe thead th {\n",
       "        text-align: right;\n",
       "    }\n",
       "</style>\n",
       "<table border=\"1\" class=\"dataframe\">\n",
       "  <thead>\n",
       "    <tr style=\"text-align: right;\">\n",
       "      <th></th>\n",
       "      <th>user_id</th>\n",
       "      <th>residence</th>\n",
       "      <th>station_ID</th>\n",
       "    </tr>\n",
       "  </thead>\n",
       "  <tbody>\n",
       "    <tr>\n",
       "      <th>count</th>\n",
       "      <td>2069.000000</td>\n",
       "      <td>0.0</td>\n",
       "      <td>2069.000000</td>\n",
       "    </tr>\n",
       "    <tr>\n",
       "      <th>mean</th>\n",
       "      <td>1030.209763</td>\n",
       "      <td>NaN</td>\n",
       "      <td>409.358627</td>\n",
       "    </tr>\n",
       "    <tr>\n",
       "      <th>std</th>\n",
       "      <td>606.638857</td>\n",
       "      <td>NaN</td>\n",
       "      <td>244.337210</td>\n",
       "    </tr>\n",
       "    <tr>\n",
       "      <th>min</th>\n",
       "      <td>0.000000</td>\n",
       "      <td>NaN</td>\n",
       "      <td>0.000000</td>\n",
       "    </tr>\n",
       "    <tr>\n",
       "      <th>25%</th>\n",
       "      <td>506.000000</td>\n",
       "      <td>NaN</td>\n",
       "      <td>193.000000</td>\n",
       "    </tr>\n",
       "    <tr>\n",
       "      <th>50%</th>\n",
       "      <td>999.000000</td>\n",
       "      <td>NaN</td>\n",
       "      <td>406.000000</td>\n",
       "    </tr>\n",
       "    <tr>\n",
       "      <th>75%</th>\n",
       "      <td>1571.000000</td>\n",
       "      <td>NaN</td>\n",
       "      <td>625.000000</td>\n",
       "    </tr>\n",
       "    <tr>\n",
       "      <th>max</th>\n",
       "      <td>2065.000000</td>\n",
       "      <td>NaN</td>\n",
       "      <td>830.000000</td>\n",
       "    </tr>\n",
       "  </tbody>\n",
       "</table>\n",
       "</div>"
      ]
     },
     "execution_count": 272,
     "metadata": {},
     "output_type": "execute_result"
    }
   ],
   "execution_count": 272
  },
  {
   "metadata": {
    "ExecuteTime": {
     "end_time": "2025-10-18T16:39:36.607998Z",
     "start_time": "2025-10-18T16:39:36.592862Z"
    }
   },
   "cell_type": "code",
   "source": "df_patient.groupby('user_id').head()",
   "id": "4ee46e58ecb4f536",
   "outputs": [
    {
     "data": {
      "text/plain": [
       "                             mail   birthdate          registration  \\\n",
       "0     alicevasconcelos@bol.com.br  2014-05-22           03 Jul 2022   \n",
       "1             carla33@hotmail.com         NaN            2019-02-19   \n",
       "2               julie13@yahoo.com         NaN           18 Apr 2023   \n",
       "3       murakamishota@hotmail.com         NaN            2021-05-31   \n",
       "4               mauro58@gmail.com         NaN            2021-10-19   \n",
       "...                           ...         ...                   ...   \n",
       "2064     naokitakahashi@yahoo.com         NaN            2019-01-14   \n",
       "2065      igordas-neves@gmail.com         NaN            2019/11/22   \n",
       "2066   lucianoletta@fastwebnet.it  2022-03-09           11 Jun 2024   \n",
       "2067           mary08@hotmail.com         NaN           02 Feb 2021   \n",
       "2068          clayton74@yahoo.com         NaN  10/25/2020, 00:00:00   \n",
       "\n",
       "     blood_group                 company            username  user_id  \\\n",
       "0             B+          Cavalcanti S/A              theo31      763   \n",
       "1            AB-              Buck-Brown            donald76      571   \n",
       "2             B+            Acosta-Black          diazrhonda     1368   \n",
       "3             A+                加藤農林合同会社         nanamiinoue     1011   \n",
       "4             A-  Ferragni-Rapisardi SPA        gaetanoboito     1662   \n",
       "...          ...                     ...                 ...      ...   \n",
       "2064          A-                株式会社田中印刷         shotasasaki     1064   \n",
       "2065          O-                Siqueira   nogueiravalentina      326   \n",
       "2066          A-          Borghese Group  baldassarepapafava     1519   \n",
       "2067          B-           Griffin-Lopez          butlercory     1174   \n",
       "2068          B-           Collins Group            sramirez     2054   \n",
       "\n",
       "                   ssn  residence                 name  \\\n",
       "0          38671502902        NaN        Yuri Mendonça   \n",
       "1          648-52-7110        NaN       Amanda Douglas   \n",
       "2          472-71-8574        NaN          Jordan Shea   \n",
       "3          156-44-9296        NaN                伊藤 修平   \n",
       "4     CMMSYV42C16A763E        NaN  Sig. Atenulf Polani   \n",
       "...                ...        ...                  ...   \n",
       "2064       345-99-9952        NaN                鈴木 結衣   \n",
       "2065       51603748920        NaN         Nicole Gomes   \n",
       "2066  PLCDNN36E04G289W        NaN         Pina Salieri   \n",
       "2067       136-94-5197        NaN    Mr. Curtis Wilson   \n",
       "2068       033-10-3873        NaN        Crystal Smith   \n",
       "\n",
       "                            job  \\\n",
       "0                           NaN   \n",
       "1                           NaN   \n",
       "2                           NaN   \n",
       "3                        高等学校教員   \n",
       "4                           NaN   \n",
       "...                         ...   \n",
       "2064                        NaN   \n",
       "2065                        NaN   \n",
       "2066  Occupational psychologist   \n",
       "2067                        NaN   \n",
       "2068                        NaN   \n",
       "\n",
       "                                     current_location  station_ID  \n",
       "0      (Decimal('75.5622165'), Decimal('140.611314'))         705  \n",
       "1       (Decimal('56.355046'), Decimal('-31.498637'))         387  \n",
       "2     (Decimal('77.9571885'), Decimal('-141.860092'))         593  \n",
       "3         (Decimal('5.799277'), Decimal('58.160125'))         429  \n",
       "4     (Decimal('78.8543295'), Decimal('-101.613684'))         388  \n",
       "...                                               ...         ...  \n",
       "2064   (Decimal('-72.9690365'), Decimal('92.739752'))         602  \n",
       "2065    (Decimal('87.080457'), Decimal('129.153101'))         444  \n",
       "2066   (Decimal('17.415553'), Decimal('-100.277465'))         287  \n",
       "2067    (Decimal('52.450246'), Decimal('-96.122513'))         129  \n",
       "2068   (Decimal('-40.630435'), Decimal('104.760671'))          61  \n",
       "\n",
       "[2068 rows x 13 columns]"
      ],
      "text/html": [
       "<div>\n",
       "<style scoped>\n",
       "    .dataframe tbody tr th:only-of-type {\n",
       "        vertical-align: middle;\n",
       "    }\n",
       "\n",
       "    .dataframe tbody tr th {\n",
       "        vertical-align: top;\n",
       "    }\n",
       "\n",
       "    .dataframe thead th {\n",
       "        text-align: right;\n",
       "    }\n",
       "</style>\n",
       "<table border=\"1\" class=\"dataframe\">\n",
       "  <thead>\n",
       "    <tr style=\"text-align: right;\">\n",
       "      <th></th>\n",
       "      <th>mail</th>\n",
       "      <th>birthdate</th>\n",
       "      <th>registration</th>\n",
       "      <th>blood_group</th>\n",
       "      <th>company</th>\n",
       "      <th>username</th>\n",
       "      <th>user_id</th>\n",
       "      <th>ssn</th>\n",
       "      <th>residence</th>\n",
       "      <th>name</th>\n",
       "      <th>job</th>\n",
       "      <th>current_location</th>\n",
       "      <th>station_ID</th>\n",
       "    </tr>\n",
       "  </thead>\n",
       "  <tbody>\n",
       "    <tr>\n",
       "      <th>0</th>\n",
       "      <td>alicevasconcelos@bol.com.br</td>\n",
       "      <td>2014-05-22</td>\n",
       "      <td>03 Jul 2022</td>\n",
       "      <td>B+</td>\n",
       "      <td>Cavalcanti S/A</td>\n",
       "      <td>theo31</td>\n",
       "      <td>763</td>\n",
       "      <td>38671502902</td>\n",
       "      <td>NaN</td>\n",
       "      <td>Yuri Mendonça</td>\n",
       "      <td>NaN</td>\n",
       "      <td>(Decimal('75.5622165'), Decimal('140.611314'))</td>\n",
       "      <td>705</td>\n",
       "    </tr>\n",
       "    <tr>\n",
       "      <th>1</th>\n",
       "      <td>carla33@hotmail.com</td>\n",
       "      <td>NaN</td>\n",
       "      <td>2019-02-19</td>\n",
       "      <td>AB-</td>\n",
       "      <td>Buck-Brown</td>\n",
       "      <td>donald76</td>\n",
       "      <td>571</td>\n",
       "      <td>648-52-7110</td>\n",
       "      <td>NaN</td>\n",
       "      <td>Amanda Douglas</td>\n",
       "      <td>NaN</td>\n",
       "      <td>(Decimal('56.355046'), Decimal('-31.498637'))</td>\n",
       "      <td>387</td>\n",
       "    </tr>\n",
       "    <tr>\n",
       "      <th>2</th>\n",
       "      <td>julie13@yahoo.com</td>\n",
       "      <td>NaN</td>\n",
       "      <td>18 Apr 2023</td>\n",
       "      <td>B+</td>\n",
       "      <td>Acosta-Black</td>\n",
       "      <td>diazrhonda</td>\n",
       "      <td>1368</td>\n",
       "      <td>472-71-8574</td>\n",
       "      <td>NaN</td>\n",
       "      <td>Jordan Shea</td>\n",
       "      <td>NaN</td>\n",
       "      <td>(Decimal('77.9571885'), Decimal('-141.860092'))</td>\n",
       "      <td>593</td>\n",
       "    </tr>\n",
       "    <tr>\n",
       "      <th>3</th>\n",
       "      <td>murakamishota@hotmail.com</td>\n",
       "      <td>NaN</td>\n",
       "      <td>2021-05-31</td>\n",
       "      <td>A+</td>\n",
       "      <td>加藤農林合同会社</td>\n",
       "      <td>nanamiinoue</td>\n",
       "      <td>1011</td>\n",
       "      <td>156-44-9296</td>\n",
       "      <td>NaN</td>\n",
       "      <td>伊藤 修平</td>\n",
       "      <td>高等学校教員</td>\n",
       "      <td>(Decimal('5.799277'), Decimal('58.160125'))</td>\n",
       "      <td>429</td>\n",
       "    </tr>\n",
       "    <tr>\n",
       "      <th>4</th>\n",
       "      <td>mauro58@gmail.com</td>\n",
       "      <td>NaN</td>\n",
       "      <td>2021-10-19</td>\n",
       "      <td>A-</td>\n",
       "      <td>Ferragni-Rapisardi SPA</td>\n",
       "      <td>gaetanoboito</td>\n",
       "      <td>1662</td>\n",
       "      <td>CMMSYV42C16A763E</td>\n",
       "      <td>NaN</td>\n",
       "      <td>Sig. Atenulf Polani</td>\n",
       "      <td>NaN</td>\n",
       "      <td>(Decimal('78.8543295'), Decimal('-101.613684'))</td>\n",
       "      <td>388</td>\n",
       "    </tr>\n",
       "    <tr>\n",
       "      <th>...</th>\n",
       "      <td>...</td>\n",
       "      <td>...</td>\n",
       "      <td>...</td>\n",
       "      <td>...</td>\n",
       "      <td>...</td>\n",
       "      <td>...</td>\n",
       "      <td>...</td>\n",
       "      <td>...</td>\n",
       "      <td>...</td>\n",
       "      <td>...</td>\n",
       "      <td>...</td>\n",
       "      <td>...</td>\n",
       "      <td>...</td>\n",
       "    </tr>\n",
       "    <tr>\n",
       "      <th>2064</th>\n",
       "      <td>naokitakahashi@yahoo.com</td>\n",
       "      <td>NaN</td>\n",
       "      <td>2019-01-14</td>\n",
       "      <td>A-</td>\n",
       "      <td>株式会社田中印刷</td>\n",
       "      <td>shotasasaki</td>\n",
       "      <td>1064</td>\n",
       "      <td>345-99-9952</td>\n",
       "      <td>NaN</td>\n",
       "      <td>鈴木 結衣</td>\n",
       "      <td>NaN</td>\n",
       "      <td>(Decimal('-72.9690365'), Decimal('92.739752'))</td>\n",
       "      <td>602</td>\n",
       "    </tr>\n",
       "    <tr>\n",
       "      <th>2065</th>\n",
       "      <td>igordas-neves@gmail.com</td>\n",
       "      <td>NaN</td>\n",
       "      <td>2019/11/22</td>\n",
       "      <td>O-</td>\n",
       "      <td>Siqueira</td>\n",
       "      <td>nogueiravalentina</td>\n",
       "      <td>326</td>\n",
       "      <td>51603748920</td>\n",
       "      <td>NaN</td>\n",
       "      <td>Nicole Gomes</td>\n",
       "      <td>NaN</td>\n",
       "      <td>(Decimal('87.080457'), Decimal('129.153101'))</td>\n",
       "      <td>444</td>\n",
       "    </tr>\n",
       "    <tr>\n",
       "      <th>2066</th>\n",
       "      <td>lucianoletta@fastwebnet.it</td>\n",
       "      <td>2022-03-09</td>\n",
       "      <td>11 Jun 2024</td>\n",
       "      <td>A-</td>\n",
       "      <td>Borghese Group</td>\n",
       "      <td>baldassarepapafava</td>\n",
       "      <td>1519</td>\n",
       "      <td>PLCDNN36E04G289W</td>\n",
       "      <td>NaN</td>\n",
       "      <td>Pina Salieri</td>\n",
       "      <td>Occupational psychologist</td>\n",
       "      <td>(Decimal('17.415553'), Decimal('-100.277465'))</td>\n",
       "      <td>287</td>\n",
       "    </tr>\n",
       "    <tr>\n",
       "      <th>2067</th>\n",
       "      <td>mary08@hotmail.com</td>\n",
       "      <td>NaN</td>\n",
       "      <td>02 Feb 2021</td>\n",
       "      <td>B-</td>\n",
       "      <td>Griffin-Lopez</td>\n",
       "      <td>butlercory</td>\n",
       "      <td>1174</td>\n",
       "      <td>136-94-5197</td>\n",
       "      <td>NaN</td>\n",
       "      <td>Mr. Curtis Wilson</td>\n",
       "      <td>NaN</td>\n",
       "      <td>(Decimal('52.450246'), Decimal('-96.122513'))</td>\n",
       "      <td>129</td>\n",
       "    </tr>\n",
       "    <tr>\n",
       "      <th>2068</th>\n",
       "      <td>clayton74@yahoo.com</td>\n",
       "      <td>NaN</td>\n",
       "      <td>10/25/2020, 00:00:00</td>\n",
       "      <td>B-</td>\n",
       "      <td>Collins Group</td>\n",
       "      <td>sramirez</td>\n",
       "      <td>2054</td>\n",
       "      <td>033-10-3873</td>\n",
       "      <td>NaN</td>\n",
       "      <td>Crystal Smith</td>\n",
       "      <td>NaN</td>\n",
       "      <td>(Decimal('-40.630435'), Decimal('104.760671'))</td>\n",
       "      <td>61</td>\n",
       "    </tr>\n",
       "  </tbody>\n",
       "</table>\n",
       "<p>2068 rows × 13 columns</p>\n",
       "</div>"
      ]
     },
     "execution_count": 273,
     "metadata": {},
     "output_type": "execute_result"
    }
   ],
   "execution_count": 273
  },
  {
   "metadata": {},
   "cell_type": "markdown",
   "source": "### 2. Analýza atribútov",
   "id": "db3814b446a72361"
  },
  {
   "metadata": {
    "ExecuteTime": {
     "end_time": "2025-10-18T16:39:36.762370Z",
     "start_time": "2025-10-18T16:39:36.756769Z"
    }
   },
   "cell_type": "code",
   "source": "print('Pocet atributov typu int a float:',  len(df_patient.select_dtypes(include=['int64','float64']).columns))",
   "id": "389f432246ba4b5b",
   "outputs": [
    {
     "name": "stdout",
     "output_type": "stream",
     "text": [
      "Pocet atributov typu int a float: 3\n"
     ]
    }
   ],
   "execution_count": 274
  },
  {
   "metadata": {
    "ExecuteTime": {
     "end_time": "2025-10-18T16:39:36.903395Z",
     "start_time": "2025-10-18T16:39:36.898614Z"
    }
   },
   "cell_type": "code",
   "source": "df_patient.select_dtypes(include=['int64','float64']).columns",
   "id": "d57ebfd326e2fc7c",
   "outputs": [
    {
     "data": {
      "text/plain": [
       "Index(['user_id', 'residence', 'station_ID'], dtype='object')"
      ]
     },
     "execution_count": 275,
     "metadata": {},
     "output_type": "execute_result"
    }
   ],
   "execution_count": 275
  },
  {
   "metadata": {
    "ExecuteTime": {
     "end_time": "2025-10-18T16:39:36.960299Z",
     "start_time": "2025-10-18T16:39:36.954646Z"
    }
   },
   "cell_type": "code",
   "source": "df_patient.select_dtypes(include=['int64','float64']).nunique()",
   "id": "8e414e80c004135b",
   "outputs": [
    {
     "data": {
      "text/plain": [
       "user_id       1315\n",
       "residence        0\n",
       "station_ID     767\n",
       "dtype: int64"
      ]
     },
     "execution_count": 276,
     "metadata": {},
     "output_type": "execute_result"
    }
   ],
   "execution_count": 276
  },
  {
   "metadata": {
    "ExecuteTime": {
     "end_time": "2025-10-18T16:39:37.050696Z",
     "start_time": "2025-10-18T16:39:37.046424Z"
    }
   },
   "cell_type": "code",
   "source": "print('Pocet atributov typu object:', len(df_patient.select_dtypes(include=['object']).columns))",
   "id": "5458a0bf212d3a93",
   "outputs": [
    {
     "name": "stdout",
     "output_type": "stream",
     "text": [
      "Pocet atributov typu object: 10\n"
     ]
    }
   ],
   "execution_count": 277
  },
  {
   "metadata": {
    "ExecuteTime": {
     "end_time": "2025-10-18T16:39:37.128487Z",
     "start_time": "2025-10-18T16:39:37.123757Z"
    }
   },
   "cell_type": "code",
   "source": "df_patient.select_dtypes(include=['object']).columns",
   "id": "3596eb1e3fc1cbaa",
   "outputs": [
    {
     "data": {
      "text/plain": [
       "Index(['mail', 'birthdate', 'registration', 'blood_group', 'company',\n",
       "       'username', 'ssn', 'name', 'job', 'current_location'],\n",
       "      dtype='object')"
      ]
     },
     "execution_count": 278,
     "metadata": {},
     "output_type": "execute_result"
    }
   ],
   "execution_count": 278
  },
  {
   "metadata": {
    "ExecuteTime": {
     "end_time": "2025-10-18T16:39:37.237804Z",
     "start_time": "2025-10-18T16:39:37.227622Z"
    }
   },
   "cell_type": "code",
   "source": "df_patient.select_dtypes(include=['object']).nunique()",
   "id": "e6cbe98c0659176b",
   "outputs": [
    {
     "data": {
      "text/plain": [
       "mail                2062\n",
       "birthdate           1119\n",
       "registration        1875\n",
       "blood_group            8\n",
       "company             1885\n",
       "username            2042\n",
       "ssn                 2069\n",
       "name                2018\n",
       "job                  406\n",
       "current_location    1966\n",
       "dtype: int64"
      ]
     },
     "execution_count": 279,
     "metadata": {},
     "output_type": "execute_result"
    }
   ],
   "execution_count": 279
  },
  {
   "metadata": {},
   "cell_type": "markdown",
   "source": [
    "### 3. Vysledok analýzy\n",
    "- dátumy ako `birth_date` a `registration` sú ako object --> mali by sa konvertovať na datetime\n",
    "- `current_location` je ako object --> mali by sa rozložiť na dve číselné premenné (latitude, longitude) typu `float64`\n",
    "- atribút `residence` má veľa hodnot typu NaN"
   ],
   "id": "7c08c5b4c70dc86e"
  },
  {
   "metadata": {},
   "cell_type": "markdown",
   "source": [
    "## Dataset Station\n",
    "### 1. Prieskum dát"
   ],
   "id": "a2923f73666af5c0"
  },
  {
   "metadata": {
    "ExecuteTime": {
     "end_time": "2025-10-18T16:39:37.333875Z",
     "start_time": "2025-10-18T16:39:37.329398Z"
    }
   },
   "cell_type": "code",
   "source": "df_station.shape",
   "id": "fe40f64f06e94a37",
   "outputs": [
    {
     "data": {
      "text/plain": [
       "(831, 6)"
      ]
     },
     "execution_count": 280,
     "metadata": {},
     "output_type": "execute_result"
    }
   ],
   "execution_count": 280
  },
  {
   "cell_type": "code",
   "id": "5ef7c55c8e80b095",
   "metadata": {
    "ExecuteTime": {
     "end_time": "2025-10-18T16:39:37.467042Z",
     "start_time": "2025-10-18T16:39:37.459599Z"
    }
   },
   "source": [
    "df_station.info()"
   ],
   "outputs": [
    {
     "name": "stdout",
     "output_type": "stream",
     "text": [
      "<class 'pandas.core.frame.DataFrame'>\n",
      "RangeIndex: 831 entries, 0 to 830\n",
      "Data columns (total 6 columns):\n",
      " #   Column     Non-Null Count  Dtype  \n",
      "---  ------     --------------  -----  \n",
      " 0   code       829 non-null    object \n",
      " 1   QoS        831 non-null    object \n",
      " 2   longitude  831 non-null    float64\n",
      " 3   revision   831 non-null    object \n",
      " 4   location   831 non-null    object \n",
      " 5   latitude   831 non-null    float64\n",
      "dtypes: float64(2), object(4)\n",
      "memory usage: 39.1+ KB\n"
     ]
    }
   ],
   "execution_count": 281
  },
  {
   "metadata": {
    "ExecuteTime": {
     "end_time": "2025-10-18T16:39:37.624404Z",
     "start_time": "2025-10-18T16:39:37.618929Z"
    }
   },
   "cell_type": "code",
   "source": "df_station.isnull().sum()",
   "id": "f4a24004ac243d8",
   "outputs": [
    {
     "data": {
      "text/plain": [
       "code         2\n",
       "QoS          0\n",
       "longitude    0\n",
       "revision     0\n",
       "location     0\n",
       "latitude     0\n",
       "dtype: int64"
      ]
     },
     "execution_count": 282,
     "metadata": {},
     "output_type": "execute_result"
    }
   ],
   "execution_count": 282
  },
  {
   "metadata": {
    "ExecuteTime": {
     "end_time": "2025-10-18T16:39:37.758229Z",
     "start_time": "2025-10-18T16:39:37.749171Z"
    }
   },
   "cell_type": "code",
   "source": "df_station.head()",
   "id": "f8f28177c6cf4650",
   "outputs": [
    {
     "data": {
      "text/plain": [
       "  code        QoS  longitude              revision           location  \\\n",
       "0   CN       good  117.33333  03/21/2024, 00:00:00      Asia/Shanghai   \n",
       "1   IT       good   13.57661            2022/02/24        Europe/Rome   \n",
       "2   US  excellent  -82.07842           16 Dec 2021   America/New_York   \n",
       "3   BR       good  -35.71667           09 Feb 2020     America/Recife   \n",
       "4   UA       good   36.25361            2019/01/30  Europe/Zaporozhye   \n",
       "\n",
       "   latitude  \n",
       "0  34.85000  \n",
       "1  37.31065  \n",
       "2  26.91756  \n",
       "3  -8.66667  \n",
       "4  47.48444  "
      ],
      "text/html": [
       "<div>\n",
       "<style scoped>\n",
       "    .dataframe tbody tr th:only-of-type {\n",
       "        vertical-align: middle;\n",
       "    }\n",
       "\n",
       "    .dataframe tbody tr th {\n",
       "        vertical-align: top;\n",
       "    }\n",
       "\n",
       "    .dataframe thead th {\n",
       "        text-align: right;\n",
       "    }\n",
       "</style>\n",
       "<table border=\"1\" class=\"dataframe\">\n",
       "  <thead>\n",
       "    <tr style=\"text-align: right;\">\n",
       "      <th></th>\n",
       "      <th>code</th>\n",
       "      <th>QoS</th>\n",
       "      <th>longitude</th>\n",
       "      <th>revision</th>\n",
       "      <th>location</th>\n",
       "      <th>latitude</th>\n",
       "    </tr>\n",
       "  </thead>\n",
       "  <tbody>\n",
       "    <tr>\n",
       "      <th>0</th>\n",
       "      <td>CN</td>\n",
       "      <td>good</td>\n",
       "      <td>117.33333</td>\n",
       "      <td>03/21/2024, 00:00:00</td>\n",
       "      <td>Asia/Shanghai</td>\n",
       "      <td>34.85000</td>\n",
       "    </tr>\n",
       "    <tr>\n",
       "      <th>1</th>\n",
       "      <td>IT</td>\n",
       "      <td>good</td>\n",
       "      <td>13.57661</td>\n",
       "      <td>2022/02/24</td>\n",
       "      <td>Europe/Rome</td>\n",
       "      <td>37.31065</td>\n",
       "    </tr>\n",
       "    <tr>\n",
       "      <th>2</th>\n",
       "      <td>US</td>\n",
       "      <td>excellent</td>\n",
       "      <td>-82.07842</td>\n",
       "      <td>16 Dec 2021</td>\n",
       "      <td>America/New_York</td>\n",
       "      <td>26.91756</td>\n",
       "    </tr>\n",
       "    <tr>\n",
       "      <th>3</th>\n",
       "      <td>BR</td>\n",
       "      <td>good</td>\n",
       "      <td>-35.71667</td>\n",
       "      <td>09 Feb 2020</td>\n",
       "      <td>America/Recife</td>\n",
       "      <td>-8.66667</td>\n",
       "    </tr>\n",
       "    <tr>\n",
       "      <th>4</th>\n",
       "      <td>UA</td>\n",
       "      <td>good</td>\n",
       "      <td>36.25361</td>\n",
       "      <td>2019/01/30</td>\n",
       "      <td>Europe/Zaporozhye</td>\n",
       "      <td>47.48444</td>\n",
       "    </tr>\n",
       "  </tbody>\n",
       "</table>\n",
       "</div>"
      ]
     },
     "execution_count": 283,
     "metadata": {},
     "output_type": "execute_result"
    }
   ],
   "execution_count": 283
  },
  {
   "metadata": {
    "ExecuteTime": {
     "end_time": "2025-10-18T16:39:37.856883Z",
     "start_time": "2025-10-18T16:39:37.849310Z"
    }
   },
   "cell_type": "code",
   "source": "df_station.nunique()",
   "id": "7c86b640dd0f319a",
   "outputs": [
    {
     "data": {
      "text/plain": [
       "code         112\n",
       "QoS            4\n",
       "longitude    558\n",
       "revision     803\n",
       "location     147\n",
       "latitude     558\n",
       "dtype: int64"
      ]
     },
     "execution_count": 284,
     "metadata": {},
     "output_type": "execute_result"
    }
   ],
   "execution_count": 284
  },
  {
   "metadata": {
    "ExecuteTime": {
     "end_time": "2025-10-18T16:39:38.063654Z",
     "start_time": "2025-10-18T16:39:38.052439Z"
    }
   },
   "cell_type": "code",
   "source": "df_station.describe()",
   "id": "c953fc2b13e9b43c",
   "outputs": [
    {
     "data": {
      "text/plain": [
       "        longitude    latitude\n",
       "count  831.000000  831.000000\n",
       "mean    14.827578   28.049053\n",
       "std     71.465292   23.426477\n",
       "min   -123.026210  -54.800000\n",
       "25%    -45.947220   13.542460\n",
       "50%     13.576610   34.864720\n",
       "75%     72.895155   45.766750\n",
       "max    171.253640   68.798330"
      ],
      "text/html": [
       "<div>\n",
       "<style scoped>\n",
       "    .dataframe tbody tr th:only-of-type {\n",
       "        vertical-align: middle;\n",
       "    }\n",
       "\n",
       "    .dataframe tbody tr th {\n",
       "        vertical-align: top;\n",
       "    }\n",
       "\n",
       "    .dataframe thead th {\n",
       "        text-align: right;\n",
       "    }\n",
       "</style>\n",
       "<table border=\"1\" class=\"dataframe\">\n",
       "  <thead>\n",
       "    <tr style=\"text-align: right;\">\n",
       "      <th></th>\n",
       "      <th>longitude</th>\n",
       "      <th>latitude</th>\n",
       "    </tr>\n",
       "  </thead>\n",
       "  <tbody>\n",
       "    <tr>\n",
       "      <th>count</th>\n",
       "      <td>831.000000</td>\n",
       "      <td>831.000000</td>\n",
       "    </tr>\n",
       "    <tr>\n",
       "      <th>mean</th>\n",
       "      <td>14.827578</td>\n",
       "      <td>28.049053</td>\n",
       "    </tr>\n",
       "    <tr>\n",
       "      <th>std</th>\n",
       "      <td>71.465292</td>\n",
       "      <td>23.426477</td>\n",
       "    </tr>\n",
       "    <tr>\n",
       "      <th>min</th>\n",
       "      <td>-123.026210</td>\n",
       "      <td>-54.800000</td>\n",
       "    </tr>\n",
       "    <tr>\n",
       "      <th>25%</th>\n",
       "      <td>-45.947220</td>\n",
       "      <td>13.542460</td>\n",
       "    </tr>\n",
       "    <tr>\n",
       "      <th>50%</th>\n",
       "      <td>13.576610</td>\n",
       "      <td>34.864720</td>\n",
       "    </tr>\n",
       "    <tr>\n",
       "      <th>75%</th>\n",
       "      <td>72.895155</td>\n",
       "      <td>45.766750</td>\n",
       "    </tr>\n",
       "    <tr>\n",
       "      <th>max</th>\n",
       "      <td>171.253640</td>\n",
       "      <td>68.798330</td>\n",
       "    </tr>\n",
       "  </tbody>\n",
       "</table>\n",
       "</div>"
      ]
     },
     "execution_count": 285,
     "metadata": {},
     "output_type": "execute_result"
    }
   ],
   "execution_count": 285
  },
  {
   "metadata": {},
   "cell_type": "markdown",
   "source": "### 2. Analýza atribútov",
   "id": "85a84e89acc6ec45"
  },
  {
   "metadata": {
    "ExecuteTime": {
     "end_time": "2025-10-18T16:39:38.203993Z",
     "start_time": "2025-10-18T16:39:38.198049Z"
    }
   },
   "cell_type": "code",
   "source": "print(f\"Pocet atributov typu float: {len(df_station.select_dtypes(include=['float64']).columns)}\")",
   "id": "7503cfcbacab7d2b",
   "outputs": [
    {
     "name": "stdout",
     "output_type": "stream",
     "text": [
      "Pocet atributov typu float: 2\n"
     ]
    }
   ],
   "execution_count": 286
  },
  {
   "metadata": {
    "ExecuteTime": {
     "end_time": "2025-10-18T16:39:38.307637Z",
     "start_time": "2025-10-18T16:39:38.305144Z"
    }
   },
   "cell_type": "code",
   "source": "",
   "id": "6f6450e377544207",
   "outputs": [],
   "execution_count": null
  },
  {
   "metadata": {
    "ExecuteTime": {
     "end_time": "2025-10-18T16:39:38.392919Z",
     "start_time": "2025-10-18T16:39:38.387160Z"
    }
   },
   "cell_type": "code",
   "source": "df_station.select_dtypes(include=['float64']).nunique()",
   "id": "63d5e2d5771c4d4a",
   "outputs": [
    {
     "data": {
      "text/plain": [
       "longitude    558\n",
       "latitude     558\n",
       "dtype: int64"
      ]
     },
     "execution_count": 287,
     "metadata": {},
     "output_type": "execute_result"
    }
   ],
   "execution_count": 287
  },
  {
   "metadata": {
    "ExecuteTime": {
     "end_time": "2025-10-18T16:39:38.470314Z",
     "start_time": "2025-10-18T16:39:38.466429Z"
    }
   },
   "cell_type": "code",
   "source": "print(f\"Pocet atributov typu object: {len(df_station.select_dtypes(include=['object']).columns)}\")",
   "id": "b5c8841fe44e7eae",
   "outputs": [
    {
     "name": "stdout",
     "output_type": "stream",
     "text": [
      "Pocet atributov typu object: 4\n"
     ]
    }
   ],
   "execution_count": 288
  },
  {
   "metadata": {
    "ExecuteTime": {
     "end_time": "2025-10-18T16:39:38.549982Z",
     "start_time": "2025-10-18T16:39:38.543543Z"
    }
   },
   "cell_type": "code",
   "source": "df_station.select_dtypes(include=['object']).nunique()",
   "id": "703a9b0c0084502a",
   "outputs": [
    {
     "data": {
      "text/plain": [
       "code        112\n",
       "QoS           4\n",
       "revision    803\n",
       "location    147\n",
       "dtype: int64"
      ]
     },
     "execution_count": 289,
     "metadata": {},
     "output_type": "execute_result"
    }
   ],
   "execution_count": 289
  },
  {
   "metadata": {},
   "cell_type": "markdown",
   "source": [
    "### 3. Vysledok analýzy\n",
    "Dataset `station` predstavuje miesta o senzorových staniciach, kde sa meria oximetria\n",
    "Vzťah k iným tabuľkám => pacient sa nachádza na nejakej stanici alebo jeho údaje pochádzajú z konkrétneho zariadenia\n",
    "\n",
    "- vacsina atribútov je typu `object` - názvy staníc, lokality, typy zariadení\n",
    "- atribúty `latitude` a `longitude` sú číselné typu `float`\n",
    "\n",
    "Potenciálne problémy:\n",
    "  - nejednotný spôsob označovania staníc (text vs kód)\n",
    "  - chýbajúce údaje pri lokalite\n",
    "  - duplicitné záznamy (viac názvov pre tú istú stanicu)\n"
   ],
   "id": "887f61b94ba5ffe5"
  },
  {
   "metadata": {},
   "cell_type": "markdown",
   "source": [
    "## Analyza jednotlivych atribútov\n",
    "Cielom je zistiť, ktoré atribúty najviac súvisia s tým, či je oximetry = 0 alebo 1"
   ],
   "id": "35b6e53e7831da8b"
  },
  {
   "metadata": {},
   "cell_type": "markdown",
   "source": "### Popis parametrov senzorov",
   "id": "e6ea548d94d5c8be"
  },
  {
   "metadata": {
    "ExecuteTime": {
     "end_time": "2025-10-18T16:39:38.623105Z",
     "start_time": "2025-10-18T16:39:38.612318Z"
    }
   },
   "cell_type": "code",
   "source": [
    "sensor = pd.read_csv('sensor_variable_range.csv',sep='\\t')\n",
    "sensor"
   ],
   "id": "53d28b135b149c62",
   "outputs": [
    {
     "data": {
      "text/plain": [
       "                 Variable         Unit  \\\n",
       "0                    SpO₂            %   \n",
       "1                      HR          bpm   \n",
       "2                      PI            %   \n",
       "3                      RR  breaths/min   \n",
       "4                   EtCO₂         mmHg   \n",
       "5                    FiO₂            %   \n",
       "6                     PRV           ms   \n",
       "7                      BP         mmHg   \n",
       "8        Skin Temperature           °C   \n",
       "9   Motion/Activity index            -   \n",
       "10                    PVI            %   \n",
       "11               Hb level         g/dL   \n",
       "12                     SV      mL/beat   \n",
       "13                     CO        L/min   \n",
       "14       Blood Flow Index            -   \n",
       "15  PPG waveform features            -   \n",
       "16   Signal Quality Index            -   \n",
       "17     Respiratory effort            -   \n",
       "18    O₂ extraction ratio            -   \n",
       "19                    SNR           dB   \n",
       "\n",
       "                                     Description        Value Range  \n",
       "0                   Peripheral oxygen saturation            95–100%  \n",
       "1                 Heart rate from pulse oximeter         60–100 bpm  \n",
       "2                                Perfusion index            0.2–20%  \n",
       "3                               Respiratory rate  12–20 breaths/min  \n",
       "4                       End-tidal carbon dioxide         35–45 mmHg  \n",
       "5                    Fraction of inspired oxygen            21–100%  \n",
       "6                         Pulse rate variability          20–200 ms  \n",
       "7       Blood pressure (systolic diastolic mean)  90/60–120/80 mmHg  \n",
       "8                         Peripheral temperature           33–38 °C  \n",
       "9                     Sensor artifact correction                NaN  \n",
       "10                       Pleth Variability Index             10–20%  \n",
       "11                      Hemoglobin concentration         12–18 g/dL  \n",
       "12                                 Stroke volume     60–100 mL/beat  \n",
       "13                                Cardiac output          4–8 L/min  \n",
       "14  Optical/near-infrared blood flow measurement     Relative units  \n",
       "15        Photoplethysmography signal parameters                NaN  \n",
       "16             Reliability indicator of readings              0–100  \n",
       "17        Chest impedance or belt-derived effort                NaN  \n",
       "18           Calculated oxygen extraction metric            0.2–0.3  \n",
       "19             Signal-to-noise ratio from sensor           20–40 dB  "
      ],
      "text/html": [
       "<div>\n",
       "<style scoped>\n",
       "    .dataframe tbody tr th:only-of-type {\n",
       "        vertical-align: middle;\n",
       "    }\n",
       "\n",
       "    .dataframe tbody tr th {\n",
       "        vertical-align: top;\n",
       "    }\n",
       "\n",
       "    .dataframe thead th {\n",
       "        text-align: right;\n",
       "    }\n",
       "</style>\n",
       "<table border=\"1\" class=\"dataframe\">\n",
       "  <thead>\n",
       "    <tr style=\"text-align: right;\">\n",
       "      <th></th>\n",
       "      <th>Variable</th>\n",
       "      <th>Unit</th>\n",
       "      <th>Description</th>\n",
       "      <th>Value Range</th>\n",
       "    </tr>\n",
       "  </thead>\n",
       "  <tbody>\n",
       "    <tr>\n",
       "      <th>0</th>\n",
       "      <td>SpO₂</td>\n",
       "      <td>%</td>\n",
       "      <td>Peripheral oxygen saturation</td>\n",
       "      <td>95–100%</td>\n",
       "    </tr>\n",
       "    <tr>\n",
       "      <th>1</th>\n",
       "      <td>HR</td>\n",
       "      <td>bpm</td>\n",
       "      <td>Heart rate from pulse oximeter</td>\n",
       "      <td>60–100 bpm</td>\n",
       "    </tr>\n",
       "    <tr>\n",
       "      <th>2</th>\n",
       "      <td>PI</td>\n",
       "      <td>%</td>\n",
       "      <td>Perfusion index</td>\n",
       "      <td>0.2–20%</td>\n",
       "    </tr>\n",
       "    <tr>\n",
       "      <th>3</th>\n",
       "      <td>RR</td>\n",
       "      <td>breaths/min</td>\n",
       "      <td>Respiratory rate</td>\n",
       "      <td>12–20 breaths/min</td>\n",
       "    </tr>\n",
       "    <tr>\n",
       "      <th>4</th>\n",
       "      <td>EtCO₂</td>\n",
       "      <td>mmHg</td>\n",
       "      <td>End-tidal carbon dioxide</td>\n",
       "      <td>35–45 mmHg</td>\n",
       "    </tr>\n",
       "    <tr>\n",
       "      <th>5</th>\n",
       "      <td>FiO₂</td>\n",
       "      <td>%</td>\n",
       "      <td>Fraction of inspired oxygen</td>\n",
       "      <td>21–100%</td>\n",
       "    </tr>\n",
       "    <tr>\n",
       "      <th>6</th>\n",
       "      <td>PRV</td>\n",
       "      <td>ms</td>\n",
       "      <td>Pulse rate variability</td>\n",
       "      <td>20–200 ms</td>\n",
       "    </tr>\n",
       "    <tr>\n",
       "      <th>7</th>\n",
       "      <td>BP</td>\n",
       "      <td>mmHg</td>\n",
       "      <td>Blood pressure (systolic diastolic mean)</td>\n",
       "      <td>90/60–120/80 mmHg</td>\n",
       "    </tr>\n",
       "    <tr>\n",
       "      <th>8</th>\n",
       "      <td>Skin Temperature</td>\n",
       "      <td>°C</td>\n",
       "      <td>Peripheral temperature</td>\n",
       "      <td>33–38 °C</td>\n",
       "    </tr>\n",
       "    <tr>\n",
       "      <th>9</th>\n",
       "      <td>Motion/Activity index</td>\n",
       "      <td>-</td>\n",
       "      <td>Sensor artifact correction</td>\n",
       "      <td>NaN</td>\n",
       "    </tr>\n",
       "    <tr>\n",
       "      <th>10</th>\n",
       "      <td>PVI</td>\n",
       "      <td>%</td>\n",
       "      <td>Pleth Variability Index</td>\n",
       "      <td>10–20%</td>\n",
       "    </tr>\n",
       "    <tr>\n",
       "      <th>11</th>\n",
       "      <td>Hb level</td>\n",
       "      <td>g/dL</td>\n",
       "      <td>Hemoglobin concentration</td>\n",
       "      <td>12–18 g/dL</td>\n",
       "    </tr>\n",
       "    <tr>\n",
       "      <th>12</th>\n",
       "      <td>SV</td>\n",
       "      <td>mL/beat</td>\n",
       "      <td>Stroke volume</td>\n",
       "      <td>60–100 mL/beat</td>\n",
       "    </tr>\n",
       "    <tr>\n",
       "      <th>13</th>\n",
       "      <td>CO</td>\n",
       "      <td>L/min</td>\n",
       "      <td>Cardiac output</td>\n",
       "      <td>4–8 L/min</td>\n",
       "    </tr>\n",
       "    <tr>\n",
       "      <th>14</th>\n",
       "      <td>Blood Flow Index</td>\n",
       "      <td>-</td>\n",
       "      <td>Optical/near-infrared blood flow measurement</td>\n",
       "      <td>Relative units</td>\n",
       "    </tr>\n",
       "    <tr>\n",
       "      <th>15</th>\n",
       "      <td>PPG waveform features</td>\n",
       "      <td>-</td>\n",
       "      <td>Photoplethysmography signal parameters</td>\n",
       "      <td>NaN</td>\n",
       "    </tr>\n",
       "    <tr>\n",
       "      <th>16</th>\n",
       "      <td>Signal Quality Index</td>\n",
       "      <td>-</td>\n",
       "      <td>Reliability indicator of readings</td>\n",
       "      <td>0–100</td>\n",
       "    </tr>\n",
       "    <tr>\n",
       "      <th>17</th>\n",
       "      <td>Respiratory effort</td>\n",
       "      <td>-</td>\n",
       "      <td>Chest impedance or belt-derived effort</td>\n",
       "      <td>NaN</td>\n",
       "    </tr>\n",
       "    <tr>\n",
       "      <th>18</th>\n",
       "      <td>O₂ extraction ratio</td>\n",
       "      <td>-</td>\n",
       "      <td>Calculated oxygen extraction metric</td>\n",
       "      <td>0.2–0.3</td>\n",
       "    </tr>\n",
       "    <tr>\n",
       "      <th>19</th>\n",
       "      <td>SNR</td>\n",
       "      <td>dB</td>\n",
       "      <td>Signal-to-noise ratio from sensor</td>\n",
       "      <td>20–40 dB</td>\n",
       "    </tr>\n",
       "  </tbody>\n",
       "</table>\n",
       "</div>"
      ]
     },
     "execution_count": 290,
     "metadata": {},
     "output_type": "execute_result"
    }
   ],
   "execution_count": 290
  },
  {
   "metadata": {},
   "cell_type": "markdown",
   "source": "## Párová Analyza",
   "id": "3cc2ffab5a2c5402"
  },
  {
   "metadata": {
    "ExecuteTime": {
     "end_time": "2025-10-18T16:39:38.844118Z",
     "start_time": "2025-10-18T16:39:38.767020Z"
    }
   },
   "cell_type": "code",
   "source": "df_observation.describe().T",
   "id": "581c378614307a89",
   "outputs": [
    {
     "data": {
      "text/plain": [
       "                         count        mean        std         min         25%  \\\n",
       "SpO₂                   12047.0   97.267672   0.598524   95.000000   96.866478   \n",
       "HR                     12047.0   80.697806   5.155163   60.000000   77.270972   \n",
       "PI                     12047.0    9.833910   2.700888    0.200000    8.026067   \n",
       "RR                     12047.0   16.127032   1.341912   12.000000   15.065575   \n",
       "EtCO₂                  12047.0   40.492596   1.726204   35.000000   39.148665   \n",
       "FiO₂                   12047.0   56.430377   9.113699   21.000000   50.319755   \n",
       "PRV                    12047.0  104.028280  21.815668   20.000000   89.683443   \n",
       "BP                     12047.0  104.556883   3.718477   90.000000  102.051506   \n",
       "Skin Temperature       12047.0   35.712090   0.606053   33.000000   35.305665   \n",
       "Motion/Activity index  12047.0   10.696255   3.115040    0.476937    8.396510   \n",
       "PVI                    12047.0   14.345513   1.511778   10.000000   13.120902   \n",
       "Hb level               12047.0   14.888269   0.818681   12.000000   14.338476   \n",
       "SV                     12047.0   82.739311   4.596626   60.000000   79.628184   \n",
       "CO                     12047.0    4.161154   0.204165    4.000000    4.052809   \n",
       "Blood Flow Index       12047.0   52.047837  12.529413    0.000000   43.541329   \n",
       "PPG waveform features  12047.0   57.260950  12.585968    0.000000   48.839388   \n",
       "Signal Quality Index   12047.0   49.055111  13.431124    0.000000   39.961822   \n",
       "Respiratory effort     12047.0   53.443099  13.873025    0.000000   44.047538   \n",
       "O₂ extraction ratio    12047.0    0.249607   0.028951    0.200000    0.224547   \n",
       "SNR                    12047.0   29.971706   5.761003   20.000000   24.967058   \n",
       "oximetry               12047.0    0.595335   0.490847    0.000000    0.000000   \n",
       "latitude               12047.0   28.074873  23.392038  -54.800000   13.566670   \n",
       "longitude              12047.0   14.764536  71.362268 -123.026210  -45.947220   \n",
       "\n",
       "                              50%         75%         max  \n",
       "SpO₂                    97.264309   97.668347  100.000000  \n",
       "HR                      80.698631   84.159349  100.000000  \n",
       "PI                       9.839743   11.637860   20.000000  \n",
       "RR                      15.910760   17.268908   20.000000  \n",
       "EtCO₂                   40.725808   41.860040   45.000000  \n",
       "FiO₂                    56.215376   62.411973  100.000000  \n",
       "PRV                    103.995530  118.315006  200.000000  \n",
       "BP                     104.548575  107.076850  120.000000  \n",
       "Skin Temperature        35.712252   36.113696   38.000000  \n",
       "Motion/Activity index   10.790450   13.261020   19.452927  \n",
       "PVI                     14.309500   15.543749   20.000000  \n",
       "Hb level                14.877756   15.444168   18.000000  \n",
       "SV                      82.737106   85.842745  100.000000  \n",
       "CO                       4.099662    4.192040    8.000000  \n",
       "Blood Flow Index        52.152080   60.604392  100.000000  \n",
       "PPG waveform features   57.212810   65.718705  100.000000  \n",
       "Signal Quality Index    48.931583   58.244514  100.000000  \n",
       "Respiratory effort      53.517314   62.875562  100.000000  \n",
       "O₂ extraction ratio      0.249234    0.274752    0.300000  \n",
       "SNR                     30.044146   34.936653   40.000000  \n",
       "oximetry                 1.000000    1.000000    1.000000  \n",
       "latitude                34.864720   45.780710   68.798330  \n",
       "longitude               13.576610   72.851070  171.253640  "
      ],
      "text/html": [
       "<div>\n",
       "<style scoped>\n",
       "    .dataframe tbody tr th:only-of-type {\n",
       "        vertical-align: middle;\n",
       "    }\n",
       "\n",
       "    .dataframe tbody tr th {\n",
       "        vertical-align: top;\n",
       "    }\n",
       "\n",
       "    .dataframe thead th {\n",
       "        text-align: right;\n",
       "    }\n",
       "</style>\n",
       "<table border=\"1\" class=\"dataframe\">\n",
       "  <thead>\n",
       "    <tr style=\"text-align: right;\">\n",
       "      <th></th>\n",
       "      <th>count</th>\n",
       "      <th>mean</th>\n",
       "      <th>std</th>\n",
       "      <th>min</th>\n",
       "      <th>25%</th>\n",
       "      <th>50%</th>\n",
       "      <th>75%</th>\n",
       "      <th>max</th>\n",
       "    </tr>\n",
       "  </thead>\n",
       "  <tbody>\n",
       "    <tr>\n",
       "      <th>SpO₂</th>\n",
       "      <td>12047.0</td>\n",
       "      <td>97.267672</td>\n",
       "      <td>0.598524</td>\n",
       "      <td>95.000000</td>\n",
       "      <td>96.866478</td>\n",
       "      <td>97.264309</td>\n",
       "      <td>97.668347</td>\n",
       "      <td>100.000000</td>\n",
       "    </tr>\n",
       "    <tr>\n",
       "      <th>HR</th>\n",
       "      <td>12047.0</td>\n",
       "      <td>80.697806</td>\n",
       "      <td>5.155163</td>\n",
       "      <td>60.000000</td>\n",
       "      <td>77.270972</td>\n",
       "      <td>80.698631</td>\n",
       "      <td>84.159349</td>\n",
       "      <td>100.000000</td>\n",
       "    </tr>\n",
       "    <tr>\n",
       "      <th>PI</th>\n",
       "      <td>12047.0</td>\n",
       "      <td>9.833910</td>\n",
       "      <td>2.700888</td>\n",
       "      <td>0.200000</td>\n",
       "      <td>8.026067</td>\n",
       "      <td>9.839743</td>\n",
       "      <td>11.637860</td>\n",
       "      <td>20.000000</td>\n",
       "    </tr>\n",
       "    <tr>\n",
       "      <th>RR</th>\n",
       "      <td>12047.0</td>\n",
       "      <td>16.127032</td>\n",
       "      <td>1.341912</td>\n",
       "      <td>12.000000</td>\n",
       "      <td>15.065575</td>\n",
       "      <td>15.910760</td>\n",
       "      <td>17.268908</td>\n",
       "      <td>20.000000</td>\n",
       "    </tr>\n",
       "    <tr>\n",
       "      <th>EtCO₂</th>\n",
       "      <td>12047.0</td>\n",
       "      <td>40.492596</td>\n",
       "      <td>1.726204</td>\n",
       "      <td>35.000000</td>\n",
       "      <td>39.148665</td>\n",
       "      <td>40.725808</td>\n",
       "      <td>41.860040</td>\n",
       "      <td>45.000000</td>\n",
       "    </tr>\n",
       "    <tr>\n",
       "      <th>FiO₂</th>\n",
       "      <td>12047.0</td>\n",
       "      <td>56.430377</td>\n",
       "      <td>9.113699</td>\n",
       "      <td>21.000000</td>\n",
       "      <td>50.319755</td>\n",
       "      <td>56.215376</td>\n",
       "      <td>62.411973</td>\n",
       "      <td>100.000000</td>\n",
       "    </tr>\n",
       "    <tr>\n",
       "      <th>PRV</th>\n",
       "      <td>12047.0</td>\n",
       "      <td>104.028280</td>\n",
       "      <td>21.815668</td>\n",
       "      <td>20.000000</td>\n",
       "      <td>89.683443</td>\n",
       "      <td>103.995530</td>\n",
       "      <td>118.315006</td>\n",
       "      <td>200.000000</td>\n",
       "    </tr>\n",
       "    <tr>\n",
       "      <th>BP</th>\n",
       "      <td>12047.0</td>\n",
       "      <td>104.556883</td>\n",
       "      <td>3.718477</td>\n",
       "      <td>90.000000</td>\n",
       "      <td>102.051506</td>\n",
       "      <td>104.548575</td>\n",
       "      <td>107.076850</td>\n",
       "      <td>120.000000</td>\n",
       "    </tr>\n",
       "    <tr>\n",
       "      <th>Skin Temperature</th>\n",
       "      <td>12047.0</td>\n",
       "      <td>35.712090</td>\n",
       "      <td>0.606053</td>\n",
       "      <td>33.000000</td>\n",
       "      <td>35.305665</td>\n",
       "      <td>35.712252</td>\n",
       "      <td>36.113696</td>\n",
       "      <td>38.000000</td>\n",
       "    </tr>\n",
       "    <tr>\n",
       "      <th>Motion/Activity index</th>\n",
       "      <td>12047.0</td>\n",
       "      <td>10.696255</td>\n",
       "      <td>3.115040</td>\n",
       "      <td>0.476937</td>\n",
       "      <td>8.396510</td>\n",
       "      <td>10.790450</td>\n",
       "      <td>13.261020</td>\n",
       "      <td>19.452927</td>\n",
       "    </tr>\n",
       "    <tr>\n",
       "      <th>PVI</th>\n",
       "      <td>12047.0</td>\n",
       "      <td>14.345513</td>\n",
       "      <td>1.511778</td>\n",
       "      <td>10.000000</td>\n",
       "      <td>13.120902</td>\n",
       "      <td>14.309500</td>\n",
       "      <td>15.543749</td>\n",
       "      <td>20.000000</td>\n",
       "    </tr>\n",
       "    <tr>\n",
       "      <th>Hb level</th>\n",
       "      <td>12047.0</td>\n",
       "      <td>14.888269</td>\n",
       "      <td>0.818681</td>\n",
       "      <td>12.000000</td>\n",
       "      <td>14.338476</td>\n",
       "      <td>14.877756</td>\n",
       "      <td>15.444168</td>\n",
       "      <td>18.000000</td>\n",
       "    </tr>\n",
       "    <tr>\n",
       "      <th>SV</th>\n",
       "      <td>12047.0</td>\n",
       "      <td>82.739311</td>\n",
       "      <td>4.596626</td>\n",
       "      <td>60.000000</td>\n",
       "      <td>79.628184</td>\n",
       "      <td>82.737106</td>\n",
       "      <td>85.842745</td>\n",
       "      <td>100.000000</td>\n",
       "    </tr>\n",
       "    <tr>\n",
       "      <th>CO</th>\n",
       "      <td>12047.0</td>\n",
       "      <td>4.161154</td>\n",
       "      <td>0.204165</td>\n",
       "      <td>4.000000</td>\n",
       "      <td>4.052809</td>\n",
       "      <td>4.099662</td>\n",
       "      <td>4.192040</td>\n",
       "      <td>8.000000</td>\n",
       "    </tr>\n",
       "    <tr>\n",
       "      <th>Blood Flow Index</th>\n",
       "      <td>12047.0</td>\n",
       "      <td>52.047837</td>\n",
       "      <td>12.529413</td>\n",
       "      <td>0.000000</td>\n",
       "      <td>43.541329</td>\n",
       "      <td>52.152080</td>\n",
       "      <td>60.604392</td>\n",
       "      <td>100.000000</td>\n",
       "    </tr>\n",
       "    <tr>\n",
       "      <th>PPG waveform features</th>\n",
       "      <td>12047.0</td>\n",
       "      <td>57.260950</td>\n",
       "      <td>12.585968</td>\n",
       "      <td>0.000000</td>\n",
       "      <td>48.839388</td>\n",
       "      <td>57.212810</td>\n",
       "      <td>65.718705</td>\n",
       "      <td>100.000000</td>\n",
       "    </tr>\n",
       "    <tr>\n",
       "      <th>Signal Quality Index</th>\n",
       "      <td>12047.0</td>\n",
       "      <td>49.055111</td>\n",
       "      <td>13.431124</td>\n",
       "      <td>0.000000</td>\n",
       "      <td>39.961822</td>\n",
       "      <td>48.931583</td>\n",
       "      <td>58.244514</td>\n",
       "      <td>100.000000</td>\n",
       "    </tr>\n",
       "    <tr>\n",
       "      <th>Respiratory effort</th>\n",
       "      <td>12047.0</td>\n",
       "      <td>53.443099</td>\n",
       "      <td>13.873025</td>\n",
       "      <td>0.000000</td>\n",
       "      <td>44.047538</td>\n",
       "      <td>53.517314</td>\n",
       "      <td>62.875562</td>\n",
       "      <td>100.000000</td>\n",
       "    </tr>\n",
       "    <tr>\n",
       "      <th>O₂ extraction ratio</th>\n",
       "      <td>12047.0</td>\n",
       "      <td>0.249607</td>\n",
       "      <td>0.028951</td>\n",
       "      <td>0.200000</td>\n",
       "      <td>0.224547</td>\n",
       "      <td>0.249234</td>\n",
       "      <td>0.274752</td>\n",
       "      <td>0.300000</td>\n",
       "    </tr>\n",
       "    <tr>\n",
       "      <th>SNR</th>\n",
       "      <td>12047.0</td>\n",
       "      <td>29.971706</td>\n",
       "      <td>5.761003</td>\n",
       "      <td>20.000000</td>\n",
       "      <td>24.967058</td>\n",
       "      <td>30.044146</td>\n",
       "      <td>34.936653</td>\n",
       "      <td>40.000000</td>\n",
       "    </tr>\n",
       "    <tr>\n",
       "      <th>oximetry</th>\n",
       "      <td>12047.0</td>\n",
       "      <td>0.595335</td>\n",
       "      <td>0.490847</td>\n",
       "      <td>0.000000</td>\n",
       "      <td>0.000000</td>\n",
       "      <td>1.000000</td>\n",
       "      <td>1.000000</td>\n",
       "      <td>1.000000</td>\n",
       "    </tr>\n",
       "    <tr>\n",
       "      <th>latitude</th>\n",
       "      <td>12047.0</td>\n",
       "      <td>28.074873</td>\n",
       "      <td>23.392038</td>\n",
       "      <td>-54.800000</td>\n",
       "      <td>13.566670</td>\n",
       "      <td>34.864720</td>\n",
       "      <td>45.780710</td>\n",
       "      <td>68.798330</td>\n",
       "    </tr>\n",
       "    <tr>\n",
       "      <th>longitude</th>\n",
       "      <td>12047.0</td>\n",
       "      <td>14.764536</td>\n",
       "      <td>71.362268</td>\n",
       "      <td>-123.026210</td>\n",
       "      <td>-45.947220</td>\n",
       "      <td>13.576610</td>\n",
       "      <td>72.851070</td>\n",
       "      <td>171.253640</td>\n",
       "    </tr>\n",
       "  </tbody>\n",
       "</table>\n",
       "</div>"
      ]
     },
     "execution_count": 291,
     "metadata": {},
     "output_type": "execute_result"
    }
   ],
   "execution_count": 291
  },
  {
   "metadata": {},
   "cell_type": "markdown",
   "source": "Atribút oximetry (predikovaná premenná) má min 0.0, čo je fyziologicky nemožné",
   "id": "e0d68d9e023ce477"
  },
  {
   "metadata": {
    "ExecuteTime": {
     "end_time": "2025-10-18T16:39:38.956849Z",
     "start_time": "2025-10-18T16:39:38.934927Z"
    }
   },
   "cell_type": "code",
   "source": [
    "corr_target = df_observation.corr()['oximetry'].sort_values(ascending=False)\n",
    "corr_target"
   ],
   "id": "8097008d8731bf61",
   "outputs": [
    {
     "data": {
      "text/plain": [
       "oximetry                 1.000000\n",
       "Motion/Activity index    0.662160\n",
       "EtCO₂                    0.370463\n",
       "PVI                      0.287987\n",
       "PRV                      0.021299\n",
       "BP                       0.015727\n",
       "longitude                0.008244\n",
       "latitude                 0.005494\n",
       "SpO₂                     0.005029\n",
       "O₂ extraction ratio      0.003631\n",
       "PI                       0.000653\n",
       "Hb level                 0.000571\n",
       "PPG waveform features    0.000360\n",
       "Skin Temperature        -0.001038\n",
       "HR                      -0.004573\n",
       "SNR                     -0.006086\n",
       "Respiratory effort      -0.006499\n",
       "Blood Flow Index        -0.006505\n",
       "CO                      -0.011521\n",
       "SV                      -0.013590\n",
       "Signal Quality Index    -0.015706\n",
       "RR                      -0.090814\n",
       "FiO₂                    -0.109546\n",
       "Name: oximetry, dtype: float64"
      ]
     },
     "execution_count": 292,
     "metadata": {},
     "output_type": "execute_result"
    }
   ],
   "execution_count": 292
  },
  {
   "metadata": {},
   "cell_type": "markdown",
   "source": [
    "### 10 významnych atribútov\n",
    "| Atribút               | Co to znamená                                  |\n",
    "|-----------------------|------------------------------------------------|\n",
    "| PI (Perfusion Index)  | perfúzia / kvalita signálu                     |\n",
    "| Motion/Activity index | artefakty z pohybu                             |\n",
    "| Signal Quality Index  | kvalita merania                                |\n",
    "| Skin Temperature      | periférna perfúzia ovplyvňuje PPG              |\n",
    "| EtCO₂                 | stabilita dýchania                             |\n",
    "| RR                    | respiračná stabilita                           |\n",
    "| PRV                   | autonómny stav                                 |\n",
    "| BP                    | perfúzia                                       |\n",
    "| CO                    | celkové okysličenie systému                    |\n",
    "| FiO₂                  | nie priamy, ale prostredníctvom stavu pacienta |\n"
   ],
   "id": "b2382b71153db20c"
  },
  {
   "metadata": {
    "ExecuteTime": {
     "end_time": "2025-10-18T16:39:39.262315Z",
     "start_time": "2025-10-18T16:39:39.049369Z"
    }
   },
   "cell_type": "code",
   "source": [
    "sns.boxplot(data=df_observation, x='oximetry', y='PI')\n",
    "plt.title(\"PI (Perfusion Index) vs Oximetry\")\n",
    "plt.show()"
   ],
   "id": "3fd05821aa819ed",
   "outputs": [
    {
     "data": {
      "text/plain": [
       "<Figure size 640x480 with 1 Axes>"
      ],
      "image/png": "[encoded data removed]"
     },
     "metadata": {},
     "output_type": "display_data"
    }
   ],
   "execution_count": 293
  },
  {
   "metadata": {
    "ExecuteTime": {
     "end_time": "2025-10-18T16:39:39.300154Z",
     "start_time": "2025-10-18T16:39:39.296125Z"
    }
   },
   "cell_type": "code",
   "source": [
    "REF_TOP10 = {\n",
    "    \"PI\": (0.2, 20),                    # Perfusion Index – kľúčový, priamo ovplyvňuje možnosť merania\n",
    "    \"Motion/Activity index\": (0, 100),  # pohyb -> artefakty, častá príčina oximetry=0\n",
    "    \"Signal Quality Index\": (0, 100),   # hodnotí úspešnosť snímania\n",
    "    \"Skin Temperature\": (33, 38),       # nízka teplota -> vazokonstrikcia -> slabý PPG signál\n",
    "    \"EtCO₂\": (35, 45),                  # stabilita dychu, sekundárny indikátor\n",
    "    \"RR\": (12, 20),                     # stabilita ventilácie\n",
    "    \"PRV\": (20, 200),                   # autonómny stav, môže indikovať stres/kolísanie\n",
    "    \"BP\": (90, 120),                    # perfúzia na systémovej úrovni\n",
    "    \"CO\": (4, 8),                       # celkový výdaj krvi\n",
    "    \"FiO₂\": (21, 100),                  # podporný parameter, nie priamy, ale indikuje stav pacienta\n",
    "}"
   ],
   "id": "454b29a8fbf043f0",
   "outputs": [],
   "execution_count": 294
  },
  {
   "metadata": {
    "ExecuteTime": {
     "end_time": "2025-10-18T16:39:39.329899Z",
     "start_time": "2025-10-18T16:39:39.325797Z"
    }
   },
   "cell_type": "code",
   "source": [
    "def attribute_report(df, ranges):\n",
    "    rows = []\n",
    "    for col, (lo, hi) in ranges.items():\n",
    "        s = df[col]\n",
    "        n = len(s)\n",
    "        below = (s < lo).sum()\n",
    "        above = (s > hi).sum()\n",
    "        rows.append({\n",
    "            \"attribute\": col,\n",
    "            \"min\": s.min(),\n",
    "            \"max\": s.max(),\n",
    "            \"mean\": s.mean(),\n",
    "            \"ref_low\": lo,\n",
    "            \"ref_high\": hi,\n",
    "            \"% out_of_range\": round((below + above) / n * 100, 3),\n",
    "        })\n",
    "    return pd.DataFrame(rows)\n"
   ],
   "id": "42e504af856a292a",
   "outputs": [],
   "execution_count": 295
  },
  {
   "metadata": {
    "ExecuteTime": {
     "end_time": "2025-10-18T16:39:39.403085Z",
     "start_time": "2025-10-18T16:39:39.385605Z"
    }
   },
   "cell_type": "code",
   "source": [
    "report_top10 = attribute_report(df_observation, REF_TOP10)\n",
    "report_top10"
   ],
   "id": "3b8a4b48504e139b",
   "outputs": [
    {
     "data": {
      "text/plain": [
       "               attribute        min         max        mean  ref_low  \\\n",
       "0                     PI   0.200000   20.000000    9.833910      0.2   \n",
       "1  Motion/Activity index   0.476937   19.452927   10.696255      0.0   \n",
       "2   Signal Quality Index   0.000000  100.000000   49.055111      0.0   \n",
       "3       Skin Temperature  33.000000   38.000000   35.712090     33.0   \n",
       "4                  EtCO₂  35.000000   45.000000   40.492596     35.0   \n",
       "5                     RR  12.000000   20.000000   16.127032     12.0   \n",
       "6                    PRV  20.000000  200.000000  104.028280     20.0   \n",
       "7                     BP  90.000000  120.000000  104.556883     90.0   \n",
       "8                     CO   4.000000    8.000000    4.161154      4.0   \n",
       "9                   FiO₂  21.000000  100.000000   56.430377     21.0   \n",
       "\n",
       "   ref_high  % out_of_range  \n",
       "0        20             0.0  \n",
       "1       100             0.0  \n",
       "2       100             0.0  \n",
       "3        38             0.0  \n",
       "4        45             0.0  \n",
       "5        20             0.0  \n",
       "6       200             0.0  \n",
       "7       120             0.0  \n",
       "8         8             0.0  \n",
       "9       100             0.0  "
      ],
      "text/html": [
       "<div>\n",
       "<style scoped>\n",
       "    .dataframe tbody tr th:only-of-type {\n",
       "        vertical-align: middle;\n",
       "    }\n",
       "\n",
       "    .dataframe tbody tr th {\n",
       "        vertical-align: top;\n",
       "    }\n",
       "\n",
       "    .dataframe thead th {\n",
       "        text-align: right;\n",
       "    }\n",
       "</style>\n",
       "<table border=\"1\" class=\"dataframe\">\n",
       "  <thead>\n",
       "    <tr style=\"text-align: right;\">\n",
       "      <th></th>\n",
       "      <th>attribute</th>\n",
       "      <th>min</th>\n",
       "      <th>max</th>\n",
       "      <th>mean</th>\n",
       "      <th>ref_low</th>\n",
       "      <th>ref_high</th>\n",
       "      <th>% out_of_range</th>\n",
       "    </tr>\n",
       "  </thead>\n",
       "  <tbody>\n",
       "    <tr>\n",
       "      <th>0</th>\n",
       "      <td>PI</td>\n",
       "      <td>0.200000</td>\n",
       "      <td>20.000000</td>\n",
       "      <td>9.833910</td>\n",
       "      <td>0.2</td>\n",
       "      <td>20</td>\n",
       "      <td>0.0</td>\n",
       "    </tr>\n",
       "    <tr>\n",
       "      <th>1</th>\n",
       "      <td>Motion/Activity index</td>\n",
       "      <td>0.476937</td>\n",
       "      <td>19.452927</td>\n",
       "      <td>10.696255</td>\n",
       "      <td>0.0</td>\n",
       "      <td>100</td>\n",
       "      <td>0.0</td>\n",
       "    </tr>\n",
       "    <tr>\n",
       "      <th>2</th>\n",
       "      <td>Signal Quality Index</td>\n",
       "      <td>0.000000</td>\n",
       "      <td>100.000000</td>\n",
       "      <td>49.055111</td>\n",
       "      <td>0.0</td>\n",
       "      <td>100</td>\n",
       "      <td>0.0</td>\n",
       "    </tr>\n",
       "    <tr>\n",
       "      <th>3</th>\n",
       "      <td>Skin Temperature</td>\n",
       "      <td>33.000000</td>\n",
       "      <td>38.000000</td>\n",
       "      <td>35.712090</td>\n",
       "      <td>33.0</td>\n",
       "      <td>38</td>\n",
       "      <td>0.0</td>\n",
       "    </tr>\n",
       "    <tr>\n",
       "      <th>4</th>\n",
       "      <td>EtCO₂</td>\n",
       "      <td>35.000000</td>\n",
       "      <td>45.000000</td>\n",
       "      <td>40.492596</td>\n",
       "      <td>35.0</td>\n",
       "      <td>45</td>\n",
       "      <td>0.0</td>\n",
       "    </tr>\n",
       "    <tr>\n",
       "      <th>5</th>\n",
       "      <td>RR</td>\n",
       "      <td>12.000000</td>\n",
       "      <td>20.000000</td>\n",
       "      <td>16.127032</td>\n",
       "      <td>12.0</td>\n",
       "      <td>20</td>\n",
       "      <td>0.0</td>\n",
       "    </tr>\n",
       "    <tr>\n",
       "      <th>6</th>\n",
       "      <td>PRV</td>\n",
       "      <td>20.000000</td>\n",
       "      <td>200.000000</td>\n",
       "      <td>104.028280</td>\n",
       "      <td>20.0</td>\n",
       "      <td>200</td>\n",
       "      <td>0.0</td>\n",
       "    </tr>\n",
       "    <tr>\n",
       "      <th>7</th>\n",
       "      <td>BP</td>\n",
       "      <td>90.000000</td>\n",
       "      <td>120.000000</td>\n",
       "      <td>104.556883</td>\n",
       "      <td>90.0</td>\n",
       "      <td>120</td>\n",
       "      <td>0.0</td>\n",
       "    </tr>\n",
       "    <tr>\n",
       "      <th>8</th>\n",
       "      <td>CO</td>\n",
       "      <td>4.000000</td>\n",
       "      <td>8.000000</td>\n",
       "      <td>4.161154</td>\n",
       "      <td>4.0</td>\n",
       "      <td>8</td>\n",
       "      <td>0.0</td>\n",
       "    </tr>\n",
       "    <tr>\n",
       "      <th>9</th>\n",
       "      <td>FiO₂</td>\n",
       "      <td>21.000000</td>\n",
       "      <td>100.000000</td>\n",
       "      <td>56.430377</td>\n",
       "      <td>21.0</td>\n",
       "      <td>100</td>\n",
       "      <td>0.0</td>\n",
       "    </tr>\n",
       "  </tbody>\n",
       "</table>\n",
       "</div>"
      ]
     },
     "execution_count": 296,
     "metadata": {},
     "output_type": "execute_result"
    }
   ],
   "execution_count": 296
  },
  {
   "metadata": {
    "ExecuteTime": {
     "end_time": "2025-10-18T16:39:39.491561Z",
     "start_time": "2025-10-18T16:39:39.485385Z"
    }
   },
   "cell_type": "code",
   "source": [
    "def plot_top10_grid(df, ranges):\n",
    "    cols = list(ranges.keys())\n",
    "    n = len(cols)\n",
    "    rows = math.ceil(n/2)  # 2 grafy na riadok\n",
    "\n",
    "    fig, axes = plt.subplots(rows, 2, figsize=(12, rows*3))\n",
    "    axes = axes.flatten()\n",
    "\n",
    "    for i, col in enumerate(cols):\n",
    "        ax = axes[i]\n",
    "        lo, hi = ranges[col]\n",
    "        s = df[col]\n",
    "\n",
    "        ax.hist(s, bins=30)\n",
    "        ax.axvspan(lo, hi, alpha=0.15)\n",
    "        ax.axvline(lo, linestyle=\"--\")\n",
    "        ax.axvline(hi, linestyle=\"--\")\n",
    "        ax.set_title(col)\n",
    "        ax.set_xlabel(\"hodnota\")\n",
    "        ax.set_ylabel(\"počet\")\n",
    "\n",
    "    for j in range(i+1, len(axes)):\n",
    "        fig.delaxes(axes[j])\n",
    "\n",
    "    plt.tight_layout()\n",
    "    plt.show()"
   ],
   "id": "adc65e555b2b09c4",
   "outputs": [],
   "execution_count": 297
  },
  {
   "metadata": {
    "ExecuteTime": {
     "end_time": "2025-10-18T16:39:41.762108Z",
     "start_time": "2025-10-18T16:39:39.534304Z"
    }
   },
   "cell_type": "code",
   "source": "plot_top10_grid(df_observation, REF_TOP10)",
   "id": "b2a7efd27101a0d1",
   "outputs": [
    {
     "data": {
      "text/plain": [
       "<Figure size 1200x1500 with 10 Axes>"
      ],
      "image/png": "[encoded data removed]"
     },
     "metadata": {},
     "output_type": "display_data"
    }
   ],
   "execution_count": 298
  },
  {
   "metadata": {},
   "cell_type": "markdown",
   "source": "### Vzťahy medzi samotnými atribútmi",
   "id": "4cbf3af4eeeeca2d"
  },
  {
   "metadata": {
    "ExecuteTime": {
     "end_time": "2025-10-18T16:39:42.752077Z",
     "start_time": "2025-10-18T16:39:41.775404Z"
    }
   },
   "cell_type": "code",
   "source": [
    "top10_cols = list(REF_TOP10.keys())\n",
    "\n",
    "corr = df_observation[top10_cols].corr()\n",
    "\n",
    "plt.figure(figsize=(8,6))\n",
    "sns.heatmap(corr, annot=True, fmt=\".2f\", cmap=\"coolwarm\", square=True)\n",
    "plt.title(\"Korelácie medzi TOP 10 atribútmi\")\n",
    "plt.show()"
   ],
   "id": "b238dc84732652d9",
   "outputs": [
    {
     "data": {
      "text/plain": [
       "<Figure size 800x600 with 2 Axes>"
      ],
      "image/png": "[encoded data removed]"
     },
     "metadata": {},
     "output_type": "display_data"
    }
   ],
   "execution_count": 299
  },
  {
   "metadata": {
    "ExecuteTime": {
     "end_time": "2025-10-18T16:39:43.472064Z",
     "start_time": "2025-10-18T16:39:42.798567Z"
    }
   },
   "cell_type": "code",
   "source": [
    "pair_vars = [\"Motion/Activity index\", \"EtCO₂\", \"PVI\", \"Signal Quality Index\"]\n",
    "\n",
    "fig, axes = plt.subplots(2, 2, figsize=(12, 8)) \n",
    "axes = axes.flatten()\n",
    "\n",
    "for ax, col in zip(axes, pair_vars):\n",
    "    sns.boxplot(data=df_observation, x=\"oximetry\", y=col, ax=ax)\n",
    "    ax.set_title(f\"{col} vs oximetry\")\n",
    "    ax.set_xlabel(\"oximetry\")\n",
    "    ax.set_ylabel(col)\n",
    "\n",
    "plt.tight_layout()\n",
    "plt.show()\n"
   ],
   "id": "ff2c27e619585403",
   "outputs": [
    {
     "data": {
      "text/plain": [
       "<Figure size 1200x800 with 4 Axes>"
      ],
      "image/png": "[encoded data removed]"
     },
     "metadata": {},
     "output_type": "display_data"
    }
   ],
   "execution_count": 300
  },
  {
   "metadata": {},
   "cell_type": "markdown",
   "source": [
    "\n",
    "## Výsledky EDA\n",
    "### Záverečné zhrnutie fázy 1.1 (Exploračná dátová analýza)\n",
    "\n",
    "Analýza datasetu ukázala, že namerané vitálne funkcie (SpO₂, HR, RR, EtCO₂, BP, CO\n",
    "a pod.) sa pohybujú v fyziologicky stabilných rozsahoch, čo naznačuje, že dáta\n",
    "pochádzajú zo stabilizovanej populácie pacientov bez výrazných hypoxických alebo\n",
    "akútnych udalostí.\n",
    "\n",
    "Predikovaná premenná `oximetry` nie je hodnota SpO₂, ale binárna informácia o\n",
    "tom, či sa senzorom podarilo zmerať saturáciu (1 = úspešné meranie, 0 = zlyhanie).\n",
    "To znamená, že úlohou nie je predikovať úroveň oxygenácie, ale **predikovať\n",
    "dostupnosť/spoľahlivosť oximetrického merania**.\n",
    "\n",
    "Párová analýza ukázala, že dostupnosť merania nesúvisí priamo s vitálnymi\n",
    "parametrami (napr. HR, BP, CO), ale so senzormi a signálovými podmienkami.\n",
    "Najsilnejšie súvislosti boli pozorované medzi:\n",
    "- `oximetry` a **Motion/Activity index** (pohybové artefakty),\n",
    "- `oximetry` a **Perfusion Index (PI)** (priechodnosť periférneho prietoku),\n",
    "- `oximetry` a **Signal Quality Index**,\n",
    "- čiastočne `oximetry` a **EtCO₂** (respiračná stabilita).\n",
    "\n",
    "Tieto výsledky naznačujú, že dôvodom zlyhaného oximetrického merania sú najmä\n",
    "technicko-senzorické podmienky (pohyb, slabá perfúzia, nízky signál), nie\n",
    "fyziologická zmena vitálneho stavu pacienta.\n",
    "\n",
    "Z týchto dôvodov bude fáza **1.2 – Čistenie dát** zameraná na:\n",
    "- identifikáciu záznamov s nízkou kvalitou signálu (oximetry = 0),\n",
    "- overenie, či ide o artefakty alebo reálne zhoršené meranie,\n",
    "- rozhodnutie, či tieto záznamy ponechať, upraviť (winsorizácia) alebo odstrániť,\n",
    "- prípravu dát na modelovanie dostupnosti merania namiesto samotnej hodnoty SpO₂."
   ],
   "id": "75d9b34675152eff"
  },
  {
   "metadata": {},
   "cell_type": "markdown",
   "source": "### Sanity check pre PI",
   "id": "f50b25b2ff12443b"
  },
  {
   "metadata": {
    "ExecuteTime": {
     "end_time": "2025-10-18T16:39:43.548122Z",
     "start_time": "2025-10-18T16:39:43.522489Z"
    }
   },
   "cell_type": "code",
   "source": "df_observation.groupby('oximetry')['PI'].describe()",
   "id": "50e579bc85421026",
   "outputs": [
    {
     "data": {
      "text/plain": [
       "           count      mean       std       min       25%       50%        75%  \\\n",
       "oximetry                                                                        \n",
       "0.0       4875.0  9.831770  2.689352  0.200000  8.021254  9.843665  11.599899   \n",
       "1.0       7172.0  9.835365  2.708887  0.467066  8.027279  9.838462  11.665167   \n",
       "\n",
       "                max  \n",
       "oximetry             \n",
       "0.0       20.000000  \n",
       "1.0       19.463705  "
      ],
      "text/html": [
       "<div>\n",
       "<style scoped>\n",
       "    .dataframe tbody tr th:only-of-type {\n",
       "        vertical-align: middle;\n",
       "    }\n",
       "\n",
       "    .dataframe tbody tr th {\n",
       "        vertical-align: top;\n",
       "    }\n",
       "\n",
       "    .dataframe thead th {\n",
       "        text-align: right;\n",
       "    }\n",
       "</style>\n",
       "<table border=\"1\" class=\"dataframe\">\n",
       "  <thead>\n",
       "    <tr style=\"text-align: right;\">\n",
       "      <th></th>\n",
       "      <th>count</th>\n",
       "      <th>mean</th>\n",
       "      <th>std</th>\n",
       "      <th>min</th>\n",
       "      <th>25%</th>\n",
       "      <th>50%</th>\n",
       "      <th>75%</th>\n",
       "      <th>max</th>\n",
       "    </tr>\n",
       "    <tr>\n",
       "      <th>oximetry</th>\n",
       "      <th></th>\n",
       "      <th></th>\n",
       "      <th></th>\n",
       "      <th></th>\n",
       "      <th></th>\n",
       "      <th></th>\n",
       "      <th></th>\n",
       "      <th></th>\n",
       "    </tr>\n",
       "  </thead>\n",
       "  <tbody>\n",
       "    <tr>\n",
       "      <th>0.0</th>\n",
       "      <td>4875.0</td>\n",
       "      <td>9.831770</td>\n",
       "      <td>2.689352</td>\n",
       "      <td>0.200000</td>\n",
       "      <td>8.021254</td>\n",
       "      <td>9.843665</td>\n",
       "      <td>11.599899</td>\n",
       "      <td>20.000000</td>\n",
       "    </tr>\n",
       "    <tr>\n",
       "      <th>1.0</th>\n",
       "      <td>7172.0</td>\n",
       "      <td>9.835365</td>\n",
       "      <td>2.708887</td>\n",
       "      <td>0.467066</td>\n",
       "      <td>8.027279</td>\n",
       "      <td>9.838462</td>\n",
       "      <td>11.665167</td>\n",
       "      <td>19.463705</td>\n",
       "    </tr>\n",
       "  </tbody>\n",
       "</table>\n",
       "</div>"
      ]
     },
     "execution_count": 301,
     "metadata": {},
     "output_type": "execute_result"
    }
   ],
   "execution_count": 301
  },
  {
   "metadata": {},
   "cell_type": "markdown",
   "source": "- porovnania PI podľa oximetry=0/1 potvrdil, že diferenciácia medzi týmito dvoma stavmi nie je v hodnote saturácie, ale v podmienkach merania, čo podporuje hypotézu o tom, že oximetry reprezentuje kvalitu dostupnosti signálu.",
   "id": "d221610204d5ed80"
  },
  {
   "metadata": {},
   "cell_type": "markdown",
   "source": "# 1.2 Identifikácia problémov, integrácia a čistenie dát",
   "id": "8b81ce6ed237ad95"
  }
 ],
 "metadata": {
  "kernelspec": {
   "display_name": "Python 3",
   "language": "python",
   "name": "python3"
  },
  "language_info": {
   "codemirror_mode": {
    "name": "ipython",
    "version": 2
   },
   "file_extension": ".py",
   "mimetype": "text/x-python",
   "name": "python",
   "nbconvert_exporter": "python",
   "pygments_lexer": "ipython2",
   "version": "2.7.6"
  }
 },
 "nbformat": 4,
 "nbformat_minor": 5
}
